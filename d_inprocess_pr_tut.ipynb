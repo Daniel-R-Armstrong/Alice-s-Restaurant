{
  "nbformat": 4,
  "nbformat_minor": 0,
  "metadata": {
    "colab": {
      "name": "d_inprocess_pr_tut.ipynb",
      "version": "0.3.2",
      "provenance": [],
      "include_colab_link": true
    },
    "language_info": {
      "codemirror_mode": {
        "name": "ipython",
        "version": 3
      },
      "file_extension": ".py",
      "mimetype": "text/x-python",
      "name": "python",
      "nbconvert_exporter": "python",
      "pygments_lexer": "ipython3",
      "version": "3.6.7"
    },
    "kernelspec": {
      "display_name": "Python [conda root]",
      "language": "python",
      "name": "conda-root-py"
    }
  },
  "cells": [
    {
      "cell_type": "markdown",
      "metadata": {
        "id": "view-in-github",
        "colab_type": "text"
      },
      "source": [
        "<a href=\"https://colab.research.google.com/github/Daniel-R-Armstrong/Alice-s-Restaurant/blob/master/d_inprocess_pr_tut.ipynb\" target=\"_parent\"><img src=\"https://colab.research.google.com/assets/colab-badge.svg\" alt=\"Open In Colab\"/></a>"
      ]
    },
    {
      "metadata": {
        "id": "_bpnCFIRbWVI",
        "colab_type": "code",
        "colab": {}
      },
      "cell_type": "code",
      "source": [
        "# %lsmagic list of magics"
      ],
      "execution_count": 0,
      "outputs": []
    },
    {
      "metadata": {
        "id": "Uc6PD2UTbWVN",
        "colab_type": "code",
        "colab": {}
      },
      "cell_type": "code",
      "source": [
        "#        %store: Pass variables between notebooks.\n",
        "#The %store command lets you pass variables between two different notebooks.\n",
        "#-\n",
        "#  data = 'this is the string I want to pass to different notebook'\n",
        "#  %store data\n",
        "#  del data # This has deleted the variable\n",
        "#-\n",
        "# in other notebook\n",
        "#-\n",
        "# %store -r data\n",
        "# print(data)"
      ],
      "execution_count": 0,
      "outputs": []
    },
    {
      "metadata": {
        "id": "TFIoIhrFbWVQ",
        "colab_type": "code",
        "colab": {}
      },
      "cell_type": "code",
      "source": [
        "#      %who: List all variables of global scope.\n",
        "# The %who command without any arguments will list all variables that existing in the global scope. \n",
        "# Passing a parameter like str will list only variables of that type."
      ],
      "execution_count": 0,
      "outputs": []
    },
    {
      "metadata": {
        "id": "FB7dSj0tbWVS",
        "colab_type": "code",
        "colab": {}
      },
      "cell_type": "code",
      "source": [
        "#    %%writefile and %pycat: Export the contents of a cell/Show the contents of an external script\n",
        "#Using the %%writefile magic saves the contents of that cell to an external file. %pycat does the opposite,\n",
        "#and shows you (in a popup) the syntax highlighted contents of an external file"
      ],
      "execution_count": 0,
      "outputs": []
    },
    {
      "metadata": {
        "id": "ZhaWSnqBbWVV",
        "colab_type": "code",
        "colab": {}
      },
      "cell_type": "code",
      "source": [
        "#    Debugging with %pdb\n",
        "#Jupyter has own interface for The Python Debugger (pdb). \n",
        "# This makes it possible to go inside the function and investigate what happens there.\n",
        "\n",
        "#You can view a list of accepted commands for pdb here. \n",
        "# https://docs.python.org/3.5/library/pdb.html#debugger-commands"
      ],
      "execution_count": 0,
      "outputs": []
    },
    {
      "metadata": {
        "id": "fROaocuJbWVX",
        "colab_type": "code",
        "colab": {}
      },
      "cell_type": "code",
      "source": [
        "#Multicursor support\n",
        "#Jupyter supports mutiple cursors, similar to Sublime Text. \n",
        "# Simply click and drag your mouse while holding down Alt."
      ],
      "execution_count": 0,
      "outputs": []
    },
    {
      "metadata": {
        "id": "1J9ZvQGEbWVZ",
        "colab_type": "code",
        "colab": {}
      },
      "cell_type": "code",
      "source": [
        "#you can alter a modify the ast_note_interactivity kernel option to make jupyter do this for any \n",
        "#variable or statement on it's own line, so you can see the value of multiple statements at once. \n",
        "\n",
        "# from IPython.core.interactiveshell import InteractiveShell\n",
        "# InteractiveShell.ast_node_interactivity = \"all\"\n",
        "\n",
        "\n",
        "#If you want to set this behaviour for all instances of Jupyter (Notebook and Console), \n",
        "#simply:\n",
        "#create a file:\n",
        "#~/.ipython/profile_default/ipython_config.py \n",
        "#with the lines below:\n",
        "#    c = get_config()\n",
        "\n",
        "     # Run all nodes interactively\n",
        "#    c.InteractiveShell.ast_node_interactivity = \"all\n",
        "\n"
      ],
      "execution_count": 0,
      "outputs": []
    },
    {
      "metadata": {
        "id": "Tgvx5IJcbWVb",
        "colab_type": "text"
      },
      "cell_type": "markdown",
      "source": [
        "### %env\n",
        " Running %env without any arguments\n",
        "lists all environment variables\n",
        "\n",
        "The line below sets the environment\n",
        "variable OMP_NUM_THREADS\n",
        "%env OMP_NUM_THREADS=4"
      ]
    },
    {
      "metadata": {
        "id": "G1QU8TZEbWVc",
        "colab_type": "code",
        "colab": {}
      },
      "cell_type": "code",
      "source": [
        "#%run can execute python code from .py files - this is well-documented behavior. \n",
        "#Lesser known is the fact that it can also execute other jupyter notebooks, which can quite useful.\n",
        "#Note that using %run is not the same as importing a python module.\n",
        "# this will execute and show the output from\n",
        "# all code cells of the specified notebook\n",
        "#%run ./two-histograms.ipynb"
      ],
      "execution_count": 0,
      "outputs": []
    },
    {
      "metadata": {
        "id": "VL7kgE3zbWVe",
        "colab_type": "code",
        "colab": {}
      },
      "cell_type": "code",
      "source": [
        "# Before Running\n",
        "#    %load ./hello_world.py\n",
        "# After Running\n",
        "#    %load ./hello_world.py\n",
        "#    if __name__ == \"__main__\":\n",
        "#      Hello World!"
      ],
      "execution_count": 0,
      "outputs": []
    },
    {
      "metadata": {
        "id": "d8Tpo0ygbWVh",
        "colab_type": "code",
        "colab": {}
      },
      "cell_type": "code",
      "source": [
        "#Jupyter-contrib extensions is a family of extensions which give Jupyter a lot more functionality, \n",
        "#including e.g. jupyter spell-checker and code-formatter.\n",
        "\n",
        "#The following commands will install the extensions,\n",
        "#as well as a menu based configurator that will help you browse and enable the extensions\n",
        "#from the main Jupyter notebook screen.\n",
        "\n",
        "you might not whant to do this it seemed to make everything wonkey\n",
        "\n",
        "!pip install https://github.com/ipython-contrib/jupyter_contrib_nbextensions/tarball/master\n",
        "!pip install jupyter_nbextensions_configurator\n",
        "!jupyter contrib nbextension install --user\n",
        "!jupyter nbextensions_configurator enable --user"
      ],
      "execution_count": 0,
      "outputs": []
    },
    {
      "metadata": {
        "id": "BLdY3j30bWVj",
        "colab_type": "text"
      },
      "cell_type": "markdown",
      "source": [
        "### & n b s p\n",
        "makes six spaces(& nbsp ;  but with no spaces)"
      ]
    },
    {
      "metadata": {
        "id": "bAOgSsiubWVk",
        "colab_type": "code",
        "colab": {}
      },
      "cell_type": "code",
      "source": [
        "#Damian Avila's RISE allows you to create a powerpoint style presentation from an existing notebook.\n",
        "#You can install RISE using conda:#\n",
        "\n",
        "conda install -c damianavila82 rise\n",
        "#Or alternatively pip:\n",
        "\n",
        "pip install RISE\n",
        "#And then run the following code to install and enable the extension:\n",
        "\n",
        "jupyter-nbextension install rise --py --sys-prefix\n",
        "jupyter-nbextension enable rise --py --sys-prefix"
      ],
      "execution_count": 0,
      "outputs": []
    },
    {
      "metadata": {
        "id": "XtGAEu2TbWVn",
        "colab_type": "text"
      },
      "cell_type": "markdown",
      "source": [
        "### working with alieses in notebooks\n",
        "~~~\n",
        "import subprocess\n",
        "\n",
        "lines = subprocess.check_output('source ~/.bash_profile; alias',shell=True).split(b'\\n')\n",
        "manager = get_ipython().alias_manager\n",
        "for line in lines:\n",
        "    line = line.decode(\"utf-8\") \n",
        "    split_index = line.find('=')\n",
        "    cmd = line[split_index+1:]\n",
        "    alias = line[:split_index]\n",
        "    cmd = cmd[1:-1]\n",
        "    print (\"ALIAS:{}\\t\\tCMD:{}\".format(alias,cmd))\n",
        "    \n",
        "    manager.soft_define_alias(alias, cmd)\n",
        "~~~\n",
        "Here's another alternative, which is less a solution than a workaround: you can define aliases locally to the notebook using the %alias magic, and make those aliases available in the future using the %store magic. More alias trickiness here: https://github.com/ipython/ipython/wiki/Cookbook:-Storing-aliases\n",
        "\n",
        "More on the %store magic here: http://ipython.readthedocs.io/en/stable/config/extensions/storemagic.html\n",
        "\n",
        "The next step is hacking the %store magic to persist these aliases: https://github.com/ipython/ipython/blob/master/IPython/extensions/storemagic.py\n",
        "\n"
      ]
    },
    {
      "metadata": {
        "id": "vGCH8urfbWVn",
        "colab_type": "code",
        "colab": {}
      },
      "cell_type": "code",
      "source": [
        "from ipywidgets import widgets"
      ],
      "execution_count": 0,
      "outputs": []
    },
    {
      "metadata": {
        "id": "jIJYSNvxbWVp",
        "colab_type": "code",
        "colab": {}
      },
      "cell_type": "code",
      "source": [
        "from IPython.display import DisplayObject, display\n",
        "from IPython.display import display\n"
      ],
      "execution_count": 0,
      "outputs": []
    },
    {
      "metadata": {
        "id": "vbchgBwLbWVr",
        "colab_type": "code",
        "colab": {}
      },
      "cell_type": "code",
      "source": [
        "%%bash\n",
        "ls -al ~/.ssh\n",
        "#can I make this a clickable option\n",
        "\n",
        "# if error or pick new ssh code\n",
        "#https://help.github.com/articles/generating-a-new-ssh-key-and-adding-it-to-the-ssh-agent/"
      ],
      "execution_count": 0,
      "outputs": []
    },
    {
      "metadata": {
        "id": "Qa9CORBqbWVt",
        "colab_type": "code",
        "colab": {}
      },
      "cell_type": "code",
      "source": [
        "%%bash\n",
        "ls ~/.ssh"
      ],
      "execution_count": 0,
      "outputs": []
    },
    {
      "metadata": {
        "id": "Btl3EuiDbWVv",
        "colab_type": "code",
        "colab": {}
      },
      "cell_type": "code",
      "source": [
        "%%bash\n",
        "eval $(ssh-agent -s)"
      ],
      "execution_count": 0,
      "outputs": []
    },
    {
      "metadata": {
        "id": "tsybfhRmbWVy",
        "colab_type": "code",
        "colab": {}
      },
      "cell_type": "code",
      "source": [
        "#Add your SSH private key to the ssh-agent. If you created your key with a different name, \n",
        "# or if you are adding an existing key that has a different name, \n",
        "# replace id_rsa in the command with the name of your private key file.\n",
        "\n",
        "#ssh-add ~/.ssh/id_rsa"
      ],
      "execution_count": 0,
      "outputs": []
    },
    {
      "metadata": {
        "id": "tE2PZPuJbWV0",
        "colab_type": "code",
        "colab": {}
      },
      "cell_type": "code",
      "source": [
        "%%bash\n",
        "ls ~/.ssh\n",
        "# Copies the contents of the id_rsa.pub file to your clipboard"
      ],
      "execution_count": 0,
      "outputs": []
    },
    {
      "metadata": {
        "id": "AvaHHokPbWV3",
        "colab_type": "code",
        "colab": {}
      },
      "cell_type": "code",
      "source": [
        "#create if else\n",
        "# mac pbcopy < ~/.ssh/id_rsa.pub\n",
        "# pc (git bash) clip < ~/.ssh/id_rsa.pub\n",
        "# Linux (Ubuntu) cat ~/.ssh/id_rsa.pub\n"
      ],
      "execution_count": 0,
      "outputs": []
    },
    {
      "metadata": {
        "id": "rrN-MCsEbWV7",
        "colab_type": "code",
        "colab": {}
      },
      "cell_type": "code",
      "source": [
        "%%bash\n",
        "cat ~/.ssh/id_rsa.pub"
      ],
      "execution_count": 0,
      "outputs": []
    },
    {
      "metadata": {
        "id": "8oOwQWetbWV-",
        "colab_type": "code",
        "colab": {}
      },
      "cell_type": "code",
      "source": [
        "!curl -u \"Daniel-R-Armstrong\" --data '{\"title\":\"test-key\",\"key\":\"ssh-rsa AAA...\"}' https://api.github.com/user/keys"
      ],
      "execution_count": 0,
      "outputs": []
    },
    {
      "metadata": {
        "id": "4htlSVIsbWWA",
        "colab_type": "code",
        "colab": {}
      },
      "cell_type": "code",
      "source": [
        "\n",
        "widgets.Select(\n",
        "    options=['Linux', 'Windows', 'OSX'],\n",
        "    value='OSX',\n",
        "    # rows=10,\n",
        "    description='OS:',\n",
        "    disabled=False\n",
        ")"
      ],
      "execution_count": 0,
      "outputs": []
    },
    {
      "metadata": {
        "id": "dPaJ9e9pbWWD",
        "colab_type": "code",
        "colab": {}
      },
      "cell_type": "code",
      "source": [
        "curl https://api.github.com/Daniel-R-Armstrong"
      ],
      "execution_count": 0,
      "outputs": []
    },
    {
      "metadata": {
        "id": "2LH_tIkobWWG",
        "colab_type": "code",
        "colab": {}
      },
      "cell_type": "code",
      "source": [
        "email = widgets.Text(description =\"Email\", placeholder='Hello World!')\n",
        "display(email)\n",
        "\n"
      ],
      "execution_count": 0,
      "outputs": []
    },
    {
      "metadata": {
        "id": "ZRsEw7z6bWWK",
        "colab_type": "code",
        "colab": {}
      },
      "cell_type": "code",
      "source": [
        "email.value"
      ],
      "execution_count": 0,
      "outputs": []
    },
    {
      "metadata": {
        "id": "C_wHKA9TbWWM",
        "colab_type": "code",
        "colab": {}
      },
      "cell_type": "code",
      "source": [
        "import subprocess"
      ],
      "execution_count": 0,
      "outputs": []
    },
    {
      "metadata": {
        "id": "qvmGBngIbWWN",
        "colab_type": "code",
        "colab": {}
      },
      "cell_type": "code",
      "source": [
        "env = {'SSH_ASKPASS':'/path/to/myprog', 'DISPLAY':':9999'}\n",
        "p = subprocess.Popen(['ssh', '-T', '-v', email.value],\n",
        "    stdin=subprocess.PIPE,\n",
        "    stdout=subprocess.PIPE,\n",
        "    stderr=subprocess.PIPE,\n",
        "    env=env,\n",
        "    preexec_fn=os.setsid\n",
        ")"
      ],
      "execution_count": 0,
      "outputs": []
    },
    {
      "metadata": {
        "id": "rIXfSPkVbWWP",
        "colab_type": "code",
        "colab": {}
      },
      "cell_type": "code",
      "source": [
        "import subprocess, time, os, sys\n",
        "cmd = [\"./test.sh\"]\n",
        "\n",
        "p = subprocess.Popen(cmd,\n",
        "                     stdout=subprocess.PIPE,\n",
        "                     stderr=subprocess.STDOUT)\n",
        "\n",
        "for line in iter(p.stdout.readline, b''):\n",
        "    print(\">>> \" + line.decode().rstrip())"
      ],
      "execution_count": 0,
      "outputs": []
    },
    {
      "metadata": {
        "id": "JBWBvtP0bWWR",
        "colab_type": "code",
        "colab": {}
      },
      "cell_type": "code",
      "source": [
        "!ssh-keygen -t rsa -b 4096 -C {email.value}"
      ],
      "execution_count": 0,
      "outputs": []
    },
    {
      "metadata": {
        "id": "ObBvR35wbWWV",
        "colab_type": "text"
      },
      "cell_type": "markdown",
      "source": [
        "## Your information:  \n",
        "&nbsp;&nbsp;&nbsp;&nbsp;&nbsp; Email address(from github):"
      ]
    },
    {
      "metadata": {
        "id": "tGmhH7ErbWWV",
        "colab_type": "code",
        "colab": {}
      },
      "cell_type": "code",
      "source": [
        "%%bash\n",
        "ssh-keygen -t rsa -b 4096 -C \"your_email@example.com\""
      ],
      "execution_count": 0,
      "outputs": []
    },
    {
      "metadata": {
        "id": "zfg1tH3LbWWX",
        "colab_type": "code",
        "colab": {}
      },
      "cell_type": "code",
      "source": [
        "from IPython.core.display import display, HTML\n",
        "import sys\n",
        "import subprocess, os\n",
        "from pathlib import Path"
      ],
      "execution_count": 0,
      "outputs": []
    },
    {
      "metadata": {
        "id": "122z0__bbWWZ",
        "colab_type": "code",
        "colab": {}
      },
      "cell_type": "code",
      "source": [
        "sys.version\n"
      ],
      "execution_count": 0,
      "outputs": []
    },
    {
      "metadata": {
        "id": "Ixl2bn7FbWWb",
        "colab_type": "code",
        "colab": {}
      },
      "cell_type": "code",
      "source": [
        "lsmagic\n",
        "# list of magics"
      ],
      "execution_count": 0,
      "outputs": []
    },
    {
      "metadata": {
        "scrolled": true,
        "id": "-PaWtdyLbWWd",
        "colab_type": "code",
        "colab": {}
      },
      "cell_type": "code",
      "source": [
        "#Automaticly put in git folder \n",
        "!git clone https://github.com/fastai/course-v3"
      ],
      "execution_count": 0,
      "outputs": []
    },
    {
      "metadata": {
        "id": "JD3iyQ3VbWWf",
        "colab_type": "code",
        "colab": {}
      },
      "cell_type": "code",
      "source": [
        "cd course-v3"
      ],
      "execution_count": 0,
      "outputs": []
    },
    {
      "metadata": {
        "id": "QxI2vynTbWWh",
        "colab_type": "code",
        "colab": {}
      },
      "cell_type": "code",
      "source": [
        "if sys.hexversion < 0x03060000: concatenate(display(HTML('<h1>Please re-run this script with python-3.6 or higher</h1>')),\n",
        "display(HTML(\"<a href='https://conda.io/docs/user-guide/tasks/manage-python.html' target='_blank'>Conda update</a>\")),\n",
        "print(\"some more printed text ...\"),\n",
        "display(sys.version),\n",
        "display(sys.version_info),\n",
        "display(HTML('<p>Paragraph text here ...</p>')), sys.exit(\"!!! Please re-run this script with python-3.6 or higher\")),\n",
        "    \n",
        "def run_script(script):\n",
        "    cmd = f\"{sys.executable} {script}\"\n",
        "    #print(f\"Executing: {cmd}\")\n",
        "    result = subprocess.run(cmd.split(), shell=False, check=False,\n",
        "                            stdout=subprocess.PIPE, stderr=subprocess.PIPE)\n",
        "\n",
        "    if result.returncode != 0: print(f\"Failed to execute: {cmd}\")\n",
        "    if result.stdout: print(f\"{result.stdout.decode('utf-8')}\")\n",
        "    if result.stderr: print(f\"Error: {result.stderr.decode('utf-8')}\")\n",
        "\n",
        "# make sure we are under the root of the project\n",
        "cur_dir = Path(\".\").resolve().name\n",
        "if (cur_dir == \"tools\"): os.chdir(\"..\")\n",
        "\n",
        "path = Path(\"tools\")\n",
        "\n",
        "# facilitate trusting of the repo-wide .gitconfig\n",
        "run_script(path/\"trust-origin-git-config\")"
      ],
      "execution_count": 0,
      "outputs": []
    },
    {
      "metadata": {
        "id": "hwvesIzzbWWj",
        "colab_type": "code",
        "colab": {}
      },
      "cell_type": "code",
      "source": [
        "github_username = \"Daniel-R-Armstrong\"\n",
        "repo_name = \"course-v3\"\n",
        "#chmod -command and system call \n",
        "# (a) is for all users\n",
        "# (x) is exicuted\n",
        "# curl -O , drops the path,and saves file in the current working directory,overwrite if existing.\n",
        "#uth - https # https or ssh\n",
        "#user_name - github_username\n",
        "#repo_name - name of repo\n",
        "#new_branch_name - new-feature"
      ],
      "execution_count": 0,
      "outputs": []
    },
    {
      "metadata": {
        "id": "jdMKLF57bWWk",
        "colab_type": "code",
        "colab": {}
      },
      "cell_type": "code",
      "source": [
        "!curl -O https://raw.githubusercontent.com/fastai/fastai/master/tools/fastai-make-pr-branch\n"
      ],
      "execution_count": 0,
      "outputs": []
    },
    {
      "metadata": {
        "id": "E5ROCWxdbWWn",
        "colab_type": "code",
        "colab": {}
      },
      "cell_type": "code",
      "source": [
        "chmod a+x fastai-make-pr-branch\n",
        "./fastai-make-pr-branch https github_username repo_name new-feature\n"
      ],
      "execution_count": 0,
      "outputs": []
    },
    {
      "metadata": {
        "id": "YwoHpXFWbWWp",
        "colab_type": "code",
        "colab": {}
      },
      "cell_type": "code",
      "source": [
        "print(\"done\")"
      ],
      "execution_count": 0,
      "outputs": []
    },
    {
      "metadata": {
        "id": "U15p7ah5bWWr",
        "colab_type": "code",
        "colab": {}
      },
      "cell_type": "code",
      "source": [
        "%%bash\n",
        "\n",
        "me=$(basename \"$0\")\n",
        "if [[ \"$#\" -ne 4 ]]; then\n",
        "    echo \"This program will checkout a forked version of the original repository, sync it with the original, create a new branch and set it up for a PR.\"\n",
        "    echo \"\"\n",
        "    echo \"usage:\"\n",
        "    echo \"\"\n",
        "    echo \"$me auth user_name repo_name new_branch_name\"\n",
        "    echo \"\"\n",
        "    echo \"parameters:\"\n",
        "    echo \"\"\n",
        "    echo \"  auth:   ssh or https (use ssh if your github account is setup to use ssh)\"\n",
        "    echo \"  user:   your github username\"\n",
        "    echo \"  repo:   repository name to fork/use\"\n",
        "    echo \"  branch: name of the branch to create\"\n",
        "    echo \"\"\n",
        "    echo \"example:\"\n",
        "    echo \"\"\n",
        "    echo \"$me ssh my-github-username fastai new-feature-branch\"\n",
        "    echo \"\"\n",
        "    echo \"notes:\"\n",
        "    echo \"\"\n",
        "    echo \"- if the original repository has been already forked, it'll be done by the program (it will ask you for your github password)\"\n",
        "    echo \"- if the program is run from a directory that already contains a checked out git repository that matches the parameters, it will re-use it instead of making a new checkout.\"\n",
        "    echo \"- if the requested branch already exists it'll reuse it\"\n",
        "    echo \"- if the master is out of sync with the original master it'll sync it first\"\n",
        "    echo \"\"\n",
        "    exit 0\n",
        "fi\n",
        "\n",
        "auth=\"$1\"\n",
        "user_name=\"$2\"\n",
        "repo_name=\"$3\"\n",
        "new_branch_name=\"$4\"\n",
        "\n",
        "orig_user_name=\"fastai\"\n",
        "path=\"$repo_name-$new_branch_name\"\n",
        "\n",
        "# abort the script on any failure\n",
        "set -e\n",
        "\n",
        "# check curl is available\n",
        "function check_curl_is_available {\n",
        "    command -v curl >/dev/null 2>&1 || { echo >&2 \"$me requires 'curl' but it's not installed. Aborting.\"; exit 1; }\n",
        "}\n",
        "\n",
        "function run() {\n",
        "    local cmd=\"$@\"\n",
        "    echo \"running: $cmd\"\n",
        "    eval $cmd || exit 1\n",
        "}\n",
        "\n",
        "function master_sync() {\n",
        "    run \"git fetch upstream\"\n",
        "    run \"git checkout master\"\n",
        "    # XXX: this will fail if the user was committing directly to their forked `master` branch is\n",
        "    cmd=\"git merge --no-edit upstream/master\"\n",
        "    echo \"running: $cmd\"\n",
        "    eval $cmd || { git merge --abort; echo -e >&2 \"\\nError: $user_name/$repo_name/master can't be merged with orig_user_name/$repo_name/master.\\nYou must merge manually, or reset $user_name/$repo_name/master.\\nSee:  https://docs-dev.fast.ai/git.html#how-to-reset-your-forked-master-branch\\nAborting.\"; exit 1; }\n",
        "    run \"git push\"\n",
        "\n",
        "}\n",
        "\n",
        "if [[ \"$auth\" == \"ssh\" ]]; then\n",
        "    prefix=\"git@github.com:\"\n",
        "else\n",
        "    prefix=\"https://github.com/\"\n",
        "fi\n",
        "url=\"$prefix$user_name/$repo_name.git\"\n",
        "\n",
        "# fork the repo if it hasn't been forked yet\n",
        "echo -e \"\\n\\n*** Checking if we need to fork\"\n",
        "was_already_forked=0\n",
        "git ls-remote $url >/dev/null 2>&1 && was_already_forked=1\n",
        "if [[ \"$was_already_forked\" -eq 1 ]]; then\n",
        "    echo \"$url is already forked\"\n",
        "else\n",
        "    echo \"$url doesn't exist - need to fork\"\n",
        "    check_curl_is_available\n",
        "    run \"curl -u $user_name https://api.github.com/repos/fastai/$repo_name/forks -d ''\"\n",
        "fi\n",
        "\n",
        "# support an already existing checkout if it matches the desired parameters, but only if it's not dirty\n",
        "clone_is_needed=1\n",
        "if [[ -e \".git\" ]]; then\n",
        "   echo \"detected current dir to be a git repository\"\n",
        "   if [[ -n \"$(git status -s)\" ]]; then\n",
        "       echo \"git status is not clean, not going to re-use the current checkout\"\n",
        "       clone_is_needed=1\n",
        "   else\n",
        "       cur_url=$(git config --get remote.origin.url)\n",
        "       if [[ \"$cur_url\" == \"$url\" ]]; then\n",
        "           echo \"already on the right repo, going to re-use the current checkout\"\n",
        "           clone_is_needed=0\n",
        "       fi\n",
        "   fi\n",
        "fi\n",
        "\n",
        "# clone\n",
        "if [[ \"$clone_is_needed\" -eq 1 ]]; then\n",
        "    echo -e \"\\n\\n*** Cloning $url to $path\"\n",
        "    run \"git clone $url $path\"\n",
        "    run \"cd $path\"\n",
        "fi\n",
        "\n",
        "# not all repos have this tool\n",
        "tool=\"tools/run-after-git-clone\"\n",
        "if [[ -f $tool ]]; then\n",
        "    echo -e \"\\n\\n*** run fastai repository setup\"\n",
        "    run \"python $tool\"\n",
        "fi\n",
        "\n",
        "# setup this fork to track the upstream\n",
        "echo -e \"\\n\\n*** Setting up this fork to track the upstream\"\n",
        "orig_repo_url=\"$prefix$orig_user_name/$repo_name.git\"\n",
        "run \"git remote add upstream $orig_repo_url || echo 'already exists'\"\n",
        "# show the setup\n",
        "run \"git remote -v\"\n",
        "\n",
        "# let's sync the forked repo master with the upstream master if it hasn't been just forked\n",
        "if [[ \"$was_already_forked\" -eq 1 ]]; then\n",
        "    echo -e \"\\n\\n*** Syncing $user_name/master with $orig_user_name/master\"\n",
        "    master_sync\n",
        "    echo \"Done\"\n",
        "fi\n",
        "\n",
        "# now create a branch\n",
        "echo -e \"\\n\\n*** Creating '$new_branch_name' branch and setting its upstream for an easy push\"\n",
        "branch_already_exists=0\n",
        "git show-branch $new_branch_name >/dev/null 2>&1 && branch_already_exists=1\n",
        "if [[ \"$branch_already_exists\" -eq 1 ]]; then\n",
        "    echo \"$new_branch_name already exists, switching to it\"\n",
        "    run \"git checkout $new_branch_name\"\n",
        "else\n",
        "    echo \"$new_branch_name doesn't yet exist, creating\"\n",
        "    run \"git checkout -b $new_branch_name\"\n",
        "    echo -e \"'$new_branch_name' branch was successfully created\"\n",
        "fi\n",
        "\n",
        "# set this branch's upstream, so to enable `git push` and other git\n",
        "# commands without needing to pass any more arguments.\n",
        "echo -e \"\\n\\n*** Set this $new_branch_name's upstream to simplify push and alikes\"\n",
        "run \"git push --set-upstream origin $new_branch_name\"\n",
        "\n",
        "# give parting instructions\n",
        "echo -e \"\\n\\n*** Next do: \"\n",
        "# only suggest to chdir if we made a clone\n",
        "echo -e \"1. Switch to the working dir:\\n\"\n",
        "if [[ \"$clone_is_needed\" -eq 1 ]]; then\n",
        "    echo -e \"cd $path\\n\"\n",
        "else\n",
        "    echo -e \"cd .\\n\"\n",
        "fi\n",
        "echo -e \"2. Validate you're on the right repo/branch:\\n\"\n",
        "echo -e \"echo on repo: \\$(git config --get remote.origin.url | sed 's|^.*//||; s/.*@//; s/[^:/]\\+[:/]//; s/.git$//') branch: \\$(git branch | sed -n '/\\* /s///p')\\n\\n\"\n",
        "echo -e \"3. And do your work.\\n\"\n",
        "echo -e \"4. When you're done:\\n\"\n",
        "echo -e \"git add <newfiles> # if you added new files\"\n",
        "echo -e \"git commit -a      # if you want to commit all modified/added files\"\n",
        "echo -e \"git push           # push files into $new_branch_name branch\\n\"\n",
        "echo -e \"5. Then go to:\\n\"\n",
        "echo -e \"  https://github.com/$user_name/$repo_name/tree/$new_branch_name\\n\"\n",
        "echo \"review your changes and when you're happy with what you see, submit your PR.\"\n",
        "echo \"While it's very good to review your PR on github before submitting it, if you want to use a CLI solution, there are several solutions to choose from:\"\n",
        "echo \"* https://github.com/github/hub\"\n",
        "echo \"* https://github.com/jd/git-pull-request\"\n",
        "echo \"* https://github.com/jehiah/git-open-pull\"\n",
        "echo \"* https://www.npmjs.com/package/pullr\""
      ],
      "execution_count": 0,
      "outputs": []
    },
    {
      "metadata": {
        "id": "NGWfZXJFbWWt",
        "colab_type": "code",
        "colab": {}
      },
      "cell_type": "code",
      "source": [
        "%%bash\n",
        "basename --help\n"
      ],
      "execution_count": 0,
      "outputs": []
    },
    {
      "metadata": {
        "id": "dRoRqzsabWWy",
        "colab_type": "code",
        "colab": {}
      },
      "cell_type": "code",
      "source": [
        ""
      ],
      "execution_count": 0,
      "outputs": []
    }
  ]
}