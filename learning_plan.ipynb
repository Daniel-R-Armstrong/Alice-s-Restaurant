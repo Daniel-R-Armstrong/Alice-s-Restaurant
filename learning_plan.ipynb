{
  "nbformat": 4,
  "nbformat_minor": 0,
  "metadata": {
    "colab": {
      "name": "learning plan.ipynb",
      "version": "0.3.2",
      "provenance": [],
      "include_colab_link": true
    },
    "kernelspec": {
      "name": "python3",
      "display_name": "Python 3"
    }
  },
  "cells": [
    {
      "cell_type": "markdown",
      "metadata": {
        "id": "view-in-github",
        "colab_type": "text"
      },
      "source": [
        "<a href=\"https://colab.research.google.com/github/Daniel-R-Armstrong/Alice-s-Restaurant/blob/master/learning_plan.ipynb\" target=\"_parent\"><img src=\"https://colab.research.google.com/assets/colab-badge.svg\" alt=\"Open In Colab\"/></a>"
      ]
    },
    {
      "metadata": {
        "id": "YEJDeHjLoMR-",
        "colab_type": "text"
      },
      "cell_type": "markdown",
      "source": [
        "# Setup "
      ]
    },
    {
      "metadata": {
        "id": "_6bSXLvMoP5T",
        "colab_type": "text"
      },
      "cell_type": "markdown",
      "source": [
        "have bash/shell/terminial(full screen it, **alt+enter**) on one desktop, and gui stuff in another, **window + tab** to enter task view. **window + crtl + arrows**, moves back and forth between desktops. when you are in a shell there is alway a concept of where are you now. "
      ]
    },
    {
      "metadata": {
        "id": "ikBsXPWDwPf2",
        "colab_type": "text"
      },
      "cell_type": "markdown",
      "source": [
        "##general computer concepts"
      ]
    },
    {
      "metadata": {
        "id": "q9_tBOFkucni",
        "colab_type": "text"
      },
      "cell_type": "markdown",
      "source": [
        "files that start with a .____ they are configuration files, they tell other programs how they should behave, they typically end in .rc"
      ]
    },
    {
      "metadata": {
        "id": "6YGo7jTax0_S",
        "colab_type": "text"
      },
      "cell_type": "markdown",
      "source": [
        "somthing in all caps is considered an enviroment varialbe. they are kindof like cookies but for your shell. They are basically key value relationships. "
      ]
    },
    {
      "metadata": {
        "id": "gV6tGdNNrk9P",
        "colab_type": "text"
      },
      "cell_type": "markdown",
      "source": [
        "##install anaconda (conda)"
      ]
    },
    {
      "metadata": {
        "id": "COm7xm7asQiL",
        "colab_type": "text"
      },
      "cell_type": "markdown",
      "source": [
        "get link"
      ]
    },
    {
      "metadata": {
        "id": "KEoZHNpLwBc4",
        "colab_type": "text"
      },
      "cell_type": "markdown",
      "source": [
        "## install ubuntu"
      ]
    },
    {
      "metadata": {
        "id": "7Kp3UUjDwH0f",
        "colab_type": "text"
      },
      "cell_type": "markdown",
      "source": [
        "get link/dirctions"
      ]
    },
    {
      "metadata": {
        "id": "pfxRolgSvrwb",
        "colab_type": "text"
      },
      "cell_type": "markdown",
      "source": [
        "#what we are going to use"
      ]
    },
    {
      "metadata": {
        "id": "69m7qwWprs3V",
        "colab_type": "code",
        "colab": {}
      },
      "cell_type": "code",
      "source": [
        "get bash running\n",
        "get annaconda \n",
        "vs code\n",
        "vim, set up, learn, advanced\n",
        "tmux\n",
        "ssh ,learn, set up "
      ],
      "execution_count": 0,
      "outputs": []
    },
    {
      "metadata": {
        "id": "jZwgGkWJo2tU",
        "colab_type": "text"
      },
      "cell_type": "markdown",
      "source": [
        "#all notebook Links"
      ]
    },
    {
      "metadata": {
        "id": "_bziIOXKFVc0",
        "colab_type": "text"
      },
      "cell_type": "markdown",
      "source": [
        "[Bash](https://colab.research.google.com/drive/1cHj1aFbALr0thZ3ohxItJ2IGNDlLv2S_)  \n",
        "[Basic Numpy](https://colab.research.google.com/drive/1CafWN0_8mxDJSVQc2FjHwUi0kD5iD3ko)  \n",
        "[Basic Pythong](https://colab.research.google.com/drive/1FjkiNigBOsEZZqreYCMOCxoAy0MF5jE4)  \n",
        "[Vim](https://colab.research.google.com/drive/1KXeL49MY-3yzPvxqtFxvcNZTQeoB4Zu6)  \n",
        "[shortcuts and navigation](https://colab.research.google.com/drive/1zPPZGFfM-BbDDrsvOfaXqW96KozMulQT)  \n",
        "\n",
        "[SSH](https://colab.research.google.com/drive/1cQxwpHq5lPaSs5vNqXTE4g3U7MWVgHW0)\n",
        "\n"
      ]
    },
    {
      "metadata": {
        "id": "LeTqzwDA-624",
        "colab_type": "text"
      },
      "cell_type": "markdown",
      "source": [
        "#Data Sets"
      ]
    },
    {
      "metadata": {
        "id": "BFEDaLRX_Axw",
        "colab_type": "text"
      },
      "cell_type": "markdown",
      "source": [
        "##COCO Attribute Datasets"
      ]
    },
    {
      "metadata": {
        "id": "7qT-Mejd_G7p",
        "colab_type": "text"
      },
      "cell_type": "markdown",
      "source": [
        "http://cs.brown.edu/~gmpatter/cocottributes.html"
      ]
    },
    {
      "metadata": {
        "id": "SkHRnI7F_HiY",
        "colab_type": "code",
        "colab": {}
      },
      "cell_type": "code",
      "source": [
        "wget --header=\"Host: cs.brown.edu\" --header=\"User-Agent: Mozilla/5.0 (Windows NT 10.0; Win64; x64) AppleWebKit/537.36 (KHTML, like Gecko) Chrome/70.0.3538.102 Safari/537.36\" --header=\"Accept: text/html,application/xhtml+xml,application/xml;q=0.9,image/webp,image/apng,*/*;q=0.8\" --header=\"Accept-Language: en-US,en;q=0.9\" --header=\"Cookie: _ga=GA1.2.1550174582.1543402344; _gid=GA1.2.370488082.1543402344; __utma=45317814.1550174582.1543402344.1543402381.1543402381.1; __utmc=45317814; __utmz=45317814.1543402381.1.1.utmcsr=(direct)|utmccn=(direct)|utmcmd=(none); __utmt=1; __utmb=45317814.2.10.1543402381\" --header=\"Connection: keep-alive\" \"http://cs.brown.edu/~gmpatter/cocottributes/coco_attributes_2016_with_data.tar.gz\" -O \"coco_attributes_2016_with_data.tar.gz\" -c"
      ],
      "execution_count": 0,
      "outputs": []
    },
    {
      "metadata": {
        "id": "BJ8kLOpPp9UZ",
        "colab_type": "code",
        "colab": {}
      },
      "cell_type": "code",
      "source": [
        ""
      ],
      "execution_count": 0,
      "outputs": []
    },
    {
      "metadata": {
        "id": "dE1kkLQCDlHQ",
        "colab_type": "text"
      },
      "cell_type": "markdown",
      "source": [
        "## COCO Text"
      ]
    },
    {
      "metadata": {
        "id": "S1riIEinD4wr",
        "colab_type": "text"
      },
      "cell_type": "markdown",
      "source": [
        "https://bgshih.github.io/cocotext/#h2-tou"
      ]
    },
    {
      "metadata": {
        "id": "Qe8u15-HDtRZ",
        "colab_type": "text"
      },
      "cell_type": "markdown",
      "source": [
        "\n",
        "https://github.com/bgshih/coco-text/blob/master/coco_text_Demo.ipynb"
      ]
    },
    {
      "metadata": {
        "id": "fvj2W0t2EeiW",
        "colab_type": "text"
      },
      "cell_type": "markdown",
      "source": [
        "## COCO gref"
      ]
    },
    {
      "metadata": {
        "id": "h4PUnh_1EwMx",
        "colab_type": "text"
      },
      "cell_type": "markdown",
      "source": [
        "https://github.com/mjhucla/Google_Refexp_toolbox\n",
        "\n",
        "gives you a reference to text, describes the girl, written in python 2.7"
      ]
    },
    {
      "metadata": {
        "id": "fEhbgKsnKUhd",
        "colab_type": "text"
      },
      "cell_type": "markdown",
      "source": [
        "## Online product dataset"
      ]
    },
    {
      "metadata": {
        "id": "T6yAaffxKZf_",
        "colab_type": "text"
      },
      "cell_type": "markdown",
      "source": [
        "Deep Metric Learning via Lifted Structured Feature Embedding- image embeddings? is it helpful?\n",
        "\n",
        "main\n",
        "http://cvgl.stanford.edu/projects/lifted_struct/\n",
        "\n",
        "Data\n",
        "ftp://cs.stanford.edu/cs/cvgl/Stanford_Online_Products.zip"
      ]
    },
    {
      "metadata": {
        "id": "1WbONHBlMGkU",
        "colab_type": "code",
        "colab": {}
      },
      "cell_type": "code",
      "source": [
        ""
      ],
      "execution_count": 0,
      "outputs": []
    },
    {
      "metadata": {
        "id": "pSRAx6C9MHXW",
        "colab_type": "text"
      },
      "cell_type": "markdown",
      "source": [
        "## ADE20K"
      ]
    },
    {
      "metadata": {
        "id": "BrtTJCD8MO5v",
        "colab_type": "text"
      },
      "cell_type": "markdown",
      "source": [
        "http://groups.csail.mit.edu/vision/datasets/ADE20K/"
      ]
    },
    {
      "metadata": {
        "id": "7ELDTszMMQ1Y",
        "colab_type": "text"
      },
      "cell_type": "markdown",
      "source": [
        "could be used with camvid, each input image has several images and labels"
      ]
    },
    {
      "metadata": {
        "id": "NWVjZ_ngNd8S",
        "colab_type": "code",
        "colab": {}
      },
      "cell_type": "code",
      "source": [
        ""
      ],
      "execution_count": 0,
      "outputs": []
    },
    {
      "metadata": {
        "id": "39MeKHKWNefd",
        "colab_type": "text"
      },
      "cell_type": "markdown",
      "source": [
        "## chainercv"
      ]
    },
    {
      "metadata": {
        "id": "iRJILAiWNmvl",
        "colab_type": "text"
      },
      "cell_type": "markdown",
      "source": [
        "has more data sets"
      ]
    },
    {
      "metadata": {
        "id": "S3FTPje5Nlet",
        "colab_type": "text"
      },
      "cell_type": "markdown",
      "source": [
        "\n",
        "https://chainercv.readthedocs.io/en/stable/reference/datasets.html#ade20k"
      ]
    },
    {
      "metadata": {
        "id": "8T_uyTvHS5UW",
        "colab_type": "code",
        "outputId": "b6bad78b-6b46-4a4f-9aba-8182fc0f0f41",
        "colab": {
          "base_uri": "https://localhost:8080/",
          "height": 38
        }
      },
      "cell_type": "code",
      "source": [
        "%%html\n",
        "<marquee>Cutting-edge HTML tags :-)</marquee>"
      ],
      "execution_count": 0,
      "outputs": [
        {
          "output_type": "display_data",
          "data": {
            "text/html": [
              "<marquee>Cutting-edge HTML tags :-)</marquee>"
            ],
            "text/plain": [
              "<IPython.core.display.HTML object>"
            ]
          },
          "metadata": {
            "tags": []
          }
        }
      ]
    },
    {
      "metadata": {
        "id": "-j-YkKomFkhO",
        "colab_type": "code",
        "outputId": "4c03a810-155c-4ac3-c9e0-d82c97d7a174",
        "colab": {
          "resources": {
            "http://localhost:8080/images/convmap1_dims.svg": {
              "data": "CjwhRE9DVFlQRSBodG1sPgo8aHRtbCBsYW5nPWVuPgogIDxtZXRhIGNoYXJzZXQ9dXRmLTg+CiAgPG1ldGEgbmFtZT12aWV3cG9ydCBjb250ZW50PSJpbml0aWFsLXNjYWxlPTEsIG1pbmltdW0tc2NhbGU9MSwgd2lkdGg9ZGV2aWNlLXdpZHRoIj4KICA8dGl0bGU+RXJyb3IgNDA0IChOb3QgRm91bmQpISExPC90aXRsZT4KICA8c3R5bGU+CiAgICAqe21hcmdpbjowO3BhZGRpbmc6MH1odG1sLGNvZGV7Zm9udDoxNXB4LzIycHggYXJpYWwsc2Fucy1zZXJpZn1odG1se2JhY2tncm91bmQ6I2ZmZjtjb2xvcjojMjIyO3BhZGRpbmc6MTVweH1ib2R5e21hcmdpbjo3JSBhdXRvIDA7bWF4LXdpZHRoOjM5MHB4O21pbi1oZWlnaHQ6MTgwcHg7cGFkZGluZzozMHB4IDAgMTVweH0qID4gYm9keXtiYWNrZ3JvdW5kOnVybCgvL3d3dy5nb29nbGUuY29tL2ltYWdlcy9lcnJvcnMvcm9ib3QucG5nKSAxMDAlIDVweCBuby1yZXBlYXQ7cGFkZGluZy1yaWdodDoyMDVweH1we21hcmdpbjoxMXB4IDAgMjJweDtvdmVyZmxvdzpoaWRkZW59aW5ze2NvbG9yOiM3Nzc7dGV4dC1kZWNvcmF0aW9uOm5vbmV9YSBpbWd7Ym9yZGVyOjB9QG1lZGlhIHNjcmVlbiBhbmQgKG1heC13aWR0aDo3NzJweCl7Ym9keXtiYWNrZ3JvdW5kOm5vbmU7bWFyZ2luLXRvcDowO21heC13aWR0aDpub25lO3BhZGRpbmctcmlnaHQ6MH19I2xvZ297YmFja2dyb3VuZDp1cmwoLy93d3cuZ29vZ2xlLmNvbS9pbWFnZXMvbG9nb3MvZXJyb3JwYWdlL2Vycm9yX2xvZ28tMTUweDU0LnBuZykgbm8tcmVwZWF0O21hcmdpbi1sZWZ0Oi01cHh9QG1lZGlhIG9ubHkgc2NyZWVuIGFuZCAobWluLXJlc29sdXRpb246MTkyZHBpKXsjbG9nb3tiYWNrZ3JvdW5kOnVybCgvL3d3dy5nb29nbGUuY29tL2ltYWdlcy9sb2dvcy9lcnJvcnBhZ2UvZXJyb3JfbG9nby0xNTB4NTQtMngucG5nKSBuby1yZXBlYXQgMCUgMCUvMTAwJSAxMDAlOy1tb3otYm9yZGVyLWltYWdlOnVybCgvL3d3dy5nb29nbGUuY29tL2ltYWdlcy9sb2dvcy9lcnJvcnBhZ2UvZXJyb3JfbG9nby0xNTB4NTQtMngucG5nKSAwfX1AbWVkaWEgb25seSBzY3JlZW4gYW5kICgtd2Via2l0LW1pbi1kZXZpY2UtcGl4ZWwtcmF0aW86Mil7I2xvZ297YmFja2dyb3VuZDp1cmwoLy93d3cuZ29vZ2xlLmNvbS9pbWFnZXMvbG9nb3MvZXJyb3JwYWdlL2Vycm9yX2xvZ28tMTUweDU0LTJ4LnBuZykgbm8tcmVwZWF0Oy13ZWJraXQtYmFja2dyb3VuZC1zaXplOjEwMCUgMTAwJX19I2xvZ297ZGlzcGxheTppbmxpbmUtYmxvY2s7aGVpZ2h0OjU0cHg7d2lkdGg6MTUwcHh9CiAgPC9zdHlsZT4KICA8YSBocmVmPS8vd3d3Lmdvb2dsZS5jb20vPjxzcGFuIGlkPWxvZ28gYXJpYS1sYWJlbD1Hb29nbGU+PC9zcGFuPjwvYT4KICA8cD48Yj40MDQuPC9iPiA8aW5zPlRoYXTigJlzIGFuIGVycm9yLjwvaW5zPgogIDxwPiAgPGlucz5UaGF04oCZcyBhbGwgd2Uga25vdy48L2lucz4K",
              "ok": false,
              "headers": [
                [
                  "content-length",
                  "1449"
                ],
                [
                  "content-type",
                  "text/html; charset=utf-8"
                ]
              ],
              "status": 404,
              "status_text": ""
            }
          },
          "base_uri": "https://localhost:8080/",
          "height": 2061
        }
      },
      "cell_type": "code",
      "source": [
        "%%html\n",
        "<img src=\"http://deeplearning.stanford.edu/wiki/images/6/6c/Convolution_schematic.gif\" alt=\"\" width=\"426\" height=\"334\" scale=\"0\">\n",
        "<img class=\"progressiveMedia-image js-progressiveMedia-image\" data-src=\"https://cdn-images-1.medium.com/max/1600/1*EuSjHyyDRPAQUdKCKLTgIQ.png\" src=\"https://cdn-images-1.medium.com/max/1600/1*EuSjHyyDRPAQUdKCKLTgIQ.png\" width=\"426\" height=\"334\" scale=\"0\">\n",
        "<img class=\"graf-image\" data-image-id=\"0*iqNdZWyNeCr5tCkc.\" src=\"https://cdn-images-1.medium.com/max/1600/0*iqNdZWyNeCr5tCkc.\">\n",
        "<img class=\"progressiveMedia-image js-progressiveMedia-image\" data-src=\"https://cdn-images-1.medium.com/max/1600/1*vbfPq-HvBCkAcZhiSTZybg.png\" src=\"https://cdn-images-1.medium.com/max/1600/1*vbfPq-HvBCkAcZhiSTZybg.png\">\n",
        "\n",
        "<img class=\"alignnone size-medium wp-image-433\" src=\"http://www.efels.com/wp-content/uploads/2019/02/vis_and_understanding_layer_1-300x218.png\" alt=\"\" width=\"600\" height=\"400\" >\n",
        "<img class=\"alignnone  wp-image-431\" src=\"http://www.efels.com/wp-content/uploads/2019/02/layer_2-300x225.jpg\" alt=\"\" width=\"600\" height=\"400\">\n",
        "\n",
        "\n",
        "<iframe src=\"https://m2dsupsdlclass.github.io/lectures-labs/slides/04_conv_nets/index.html#30\" width=\"600\" height=\"400\" scrolling=\"no\"></iframe>\n",
        "<h6>https://m2dsupsdlclass.github.io/lectures-labs/slides/04_conv_nets/</h6>"
      ],
      "execution_count": 0,
      "outputs": [
        {
          "output_type": "display_data",
          "data": {
            "text/html": [
              "<img src=\"http://deeplearning.stanford.edu/wiki/images/6/6c/Convolution_schematic.gif\" alt=\"\" width=\"426\" height=\"334\" scale=\"0\">\n",
              "<img class=\"progressiveMedia-image js-progressiveMedia-image\" data-src=\"https://cdn-images-1.medium.com/max/1600/1*EuSjHyyDRPAQUdKCKLTgIQ.png\" src=\"https://cdn-images-1.medium.com/max/1600/1*EuSjHyyDRPAQUdKCKLTgIQ.png\" width=\"426\" height=\"334\" scale=\"0\">\n",
              "<img class=\"graf-image\" data-image-id=\"0*iqNdZWyNeCr5tCkc.\" src=\"https://cdn-images-1.medium.com/max/1600/0*iqNdZWyNeCr5tCkc.\">\n",
              "<img class=\"progressiveMedia-image js-progressiveMedia-image\" data-src=\"https://cdn-images-1.medium.com/max/1600/1*vbfPq-HvBCkAcZhiSTZybg.png\" src=\"https://cdn-images-1.medium.com/max/1600/1*vbfPq-HvBCkAcZhiSTZybg.png\">\n",
              "\n",
              "<img class=\"alignnone size-medium wp-image-433\" src=\"http://www.efels.com/wp-content/uploads/2019/02/vis_and_understanding_layer_1-300x218.png\" alt=\"\" width=\"600\" height=\"400\" >\n",
              "<img class=\"alignnone  wp-image-431\" src=\"http://www.efels.com/wp-content/uploads/2019/02/layer_2-300x225.jpg\" alt=\"\" width=\"600\" height=\"400\">\n",
              "\n",
              "<img class=\"ugh\" src=\"https://m2dsupsdlclass.github.io/lectures-labs/slides/04_conv_nets/index.html#30\" alt=\"\" width=\"600\" height=\"400\">\n",
              "<img src=\"images/convmap1_dims.svg\" style=\"width: 300px;\">\n",
              "<img src=\"images/convmap1_dims.svg\" style=\"width: 300px;\">\n",
              "\n",
              "<iframe src=\"https://m2dsupsdlclass.github.io/lectures-labs/slides/04_conv_nets/index.html#30\" width=\"600\" height=\"400\" scrolling=\"no\"></iframe>\n",
              "<h6>https://m2dsupsdlclass.github.io/lectures-labs/slides/04_conv_nets/</h6>"
            ],
            "text/plain": [
              "<IPython.core.display.HTML object>"
            ]
          },
          "metadata": {
            "tags": []
          }
        }
      ]
    },
    {
      "metadata": {
        "id": "hYHVxrqFFbFZ",
        "colab_type": "code",
        "colab": {}
      },
      "cell_type": "code",
      "source": [
        "https://m2dsupsdlclass.github.io/lectures-labs/slides/02_backprop/index.html#15"
      ],
      "execution_count": 0,
      "outputs": []
    },
    {
      "metadata": {
        "id": "MKeeZqtlFcY5",
        "colab_type": "text"
      },
      "cell_type": "markdown",
      "source": [
        "activations , relu, sigmoid, tanh(nlp)\n",
        "\n",
        "\n",
        "data > activation > data > ... > softmax > prediction"
      ]
    },
    {
      "metadata": {
        "id": "EttdiW5NJvR9",
        "colab_type": "code",
        "outputId": "c1fe459e-73c4-4224-c0a6-72d736363411",
        "colab": {
          "base_uri": "https://localhost:8080/",
          "height": 320
        }
      },
      "cell_type": "code",
      "source": [
        "from IPython.display import YouTubeVideo\n",
        "# a talk about IPython at Sage Days at U. Washington, Seattle.\n",
        "# Video credit: William Stein.\n",
        "#YouTubeVideo(\"3JQ3hYko51Y?\", start=50)\n",
        "#https://youtu.be/3JQ3hYko51Y?t=51\n",
        "\n",
        "vid = YouTubeVideo(\"3JQ3hYko51Y?\", start=50)\n",
        "display(vid)"
      ],
      "execution_count": 0,
      "outputs": [
        {
          "output_type": "display_data",
          "data": {
            "text/html": [
              "\n",
              "        <iframe\n",
              "            width=\"400\"\n",
              "            height=\"300\"\n",
              "            src=\"https://www.youtube.com/embed/3JQ3hYko51Y??start=50\"\n",
              "            frameborder=\"0\"\n",
              "            allowfullscreen\n",
              "        ></iframe>\n",
              "        "
            ],
            "text/plain": [
              "<IPython.lib.display.YouTubeVideo at 0x7f2ff5093da0>"
            ]
          },
          "metadata": {
            "tags": []
          }
        }
      ]
    },
    {
      "metadata": {
        "id": "eQoeKzDEONvk",
        "colab_type": "code",
        "colab": {}
      },
      "cell_type": "code",
      "source": [
        "??YouTubeVideo()"
      ],
      "execution_count": 0,
      "outputs": []
    },
    {
      "metadata": {
        "id": "nXHxOERvORrK",
        "colab_type": "code",
        "cellView": "both",
        "outputId": "b7bb15b8-4892-4395-97aa-3493c70dea3e",
        "colab": {
          "base_uri": "https://localhost:8080/",
          "height": 560
        }
      },
      "cell_type": "code",
      "source": [
        "#@title\n",
        "%%html\n",
        "<h2> Most of the time deep learning it comes with alot of jargon and math like this:<H2>\n",
        "\n",
        "<iframe src=\"https://m2dsupsdlclass.github.io/lectures-labs/slides/02_backprop/index.html#15\" width=\"400\" height=\"400\" scrolling=\"No\"></iframe>\n",
        "<h6>https://m2dsupsdlclass.github.io/</h6>\n",
        "  \n",
        "<h4> Nothing is wrong with this but I dont get it. It really doesn't need to be that hard. Softmax = squishifier "
      ],
      "execution_count": 0,
      "outputs": [
        {
          "output_type": "display_data",
          "data": {
            "text/html": [
              "<h2> Most of the time deep learning it comes with alot of jargon and math like this:<H2>\n",
              "\n",
              "<iframe src=\"https://m2dsupsdlclass.github.io/lectures-labs/slides/02_backprop/index.html#15\" width=\"400\" height=\"400\" scrolling=\"No\"></iframe>\n",
              "<h6>https://m2dsupsdlclass.github.io/</h6>\n",
              "  \n",
              "<h4> Nothing is wrong with this but I dont get it. It really doesn't need to be that hard. Softmax = squishifier "
            ],
            "text/plain": [
              "<IPython.core.display.HTML object>"
            ]
          },
          "metadata": {
            "tags": []
          }
        }
      ]
    },
    {
      "metadata": {
        "id": "aXQFibibEOSE",
        "colab_type": "code",
        "colab": {}
      },
      "cell_type": "code",
      "source": [
        "%%html\n",
        "<marquee>Cutting-edge HTML tags :-)</marquee>"
      ],
      "execution_count": 0,
      "outputs": []
    },
    {
      "metadata": {
        "id": "HM7PQQcxRD36",
        "colab_type": "text"
      },
      "cell_type": "markdown",
      "source": [
        "[Visualizing and Understanding Convolutional Networks.](https://arxiv.org/pdf/1311.2901.pdf) "
      ]
    }
  ]
}