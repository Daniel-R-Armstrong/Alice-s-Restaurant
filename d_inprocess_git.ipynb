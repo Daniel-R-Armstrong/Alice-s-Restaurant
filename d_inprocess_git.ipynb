{
  "nbformat": 4,
  "nbformat_minor": 0,
  "metadata": {
    "colab": {
      "name": "d_inprocess_git.ipynb",
      "version": "0.3.2",
      "provenance": [],
      "include_colab_link": true
    },
    "language_info": {
      "codemirror_mode": {
        "name": "ipython",
        "version": 3
      },
      "file_extension": ".py",
      "mimetype": "text/x-python",
      "name": "python",
      "nbconvert_exporter": "python",
      "pygments_lexer": "ipython3",
      "version": "3.6.7"
    },
    "kernelspec": {
      "display_name": "Python [conda root]",
      "language": "python",
      "name": "conda-root-py"
    }
  },
  "cells": [
    {
      "cell_type": "markdown",
      "metadata": {
        "id": "view-in-github",
        "colab_type": "text"
      },
      "source": [
        "<a href=\"https://colab.research.google.com/github/Daniel-R-Armstrong/Alice-s-Restaurant/blob/master/d_inprocess_git.ipynb\" target=\"_parent\"><img src=\"https://colab.research.google.com/assets/colab-badge.svg\" alt=\"Open In Colab\"/></a>"
      ]
    },
    {
      "metadata": {
        "id": "Brv5NUX5dRYL",
        "colab_type": "code",
        "colab": {}
      },
      "cell_type": "code",
      "source": [
        "from IPython.core.display import display, HTML\n",
        "import sys\n",
        "import subprocess, os\n",
        "from pathlib import Path"
      ],
      "execution_count": 0,
      "outputs": []
    },
    {
      "metadata": {
        "id": "71epgvTBdRYO",
        "colab_type": "code",
        "outputId": "acd9c7d2-0a01-4433-dcb7-27e6eaf6a148",
        "colab": {}
      },
      "cell_type": "code",
      "source": [
        "sys.version\n"
      ],
      "execution_count": 0,
      "outputs": [
        {
          "output_type": "execute_result",
          "data": {
            "text/plain": [
              "'3.6.7 |Anaconda custom (64-bit)| (default, Oct 28 2018, 19:44:12) [MSC v.1915 64 bit (AMD64)]'"
            ]
          },
          "metadata": {
            "tags": []
          },
          "execution_count": 25
        }
      ]
    },
    {
      "metadata": {
        "id": "ajDLfn39dRYT",
        "colab_type": "code",
        "outputId": "f7c31db0-fd39-4098-c7d6-94461f04da98",
        "colab": {}
      },
      "cell_type": "code",
      "source": [
        "lsmagic\n",
        "# list of magics"
      ],
      "execution_count": 0,
      "outputs": [
        {
          "output_type": "execute_result",
          "data": {
            "application/json": {
              "cell": {
                "!": "OSMagics",
                "HTML": "Other",
                "SVG": "Other",
                "bash": "Other",
                "capture": "ExecutionMagics",
                "cmd": "Other",
                "debug": "ExecutionMagics",
                "file": "Other",
                "html": "DisplayMagics",
                "javascript": "DisplayMagics",
                "js": "DisplayMagics",
                "latex": "DisplayMagics",
                "markdown": "DisplayMagics",
                "perl": "Other",
                "prun": "ExecutionMagics",
                "pypy": "Other",
                "python": "Other",
                "python2": "Other",
                "python3": "Other",
                "ruby": "Other",
                "script": "ScriptMagics",
                "sh": "Other",
                "svg": "DisplayMagics",
                "sx": "OSMagics",
                "system": "OSMagics",
                "time": "ExecutionMagics",
                "timeit": "ExecutionMagics",
                "writefile": "OSMagics"
              },
              "line": {
                "alias": "OSMagics",
                "alias_magic": "BasicMagics",
                "autoawait": "AsyncMagics",
                "autocall": "AutoMagics",
                "automagic": "AutoMagics",
                "autosave": "KernelMagics",
                "bookmark": "OSMagics",
                "cd": "OSMagics",
                "clear": "KernelMagics",
                "cls": "KernelMagics",
                "colors": "BasicMagics",
                "config": "ConfigMagics",
                "connect_info": "KernelMagics",
                "copy": "Other",
                "ddir": "Other",
                "debug": "ExecutionMagics",
                "dhist": "OSMagics",
                "dirs": "OSMagics",
                "doctest_mode": "BasicMagics",
                "echo": "Other",
                "ed": "Other",
                "edit": "KernelMagics",
                "env": "OSMagics",
                "gui": "BasicMagics",
                "hist": "Other",
                "history": "HistoryMagics",
                "killbgscripts": "ScriptMagics",
                "ldir": "Other",
                "less": "KernelMagics",
                "load": "CodeMagics",
                "load_ext": "ExtensionMagics",
                "loadpy": "CodeMagics",
                "logoff": "LoggingMagics",
                "logon": "LoggingMagics",
                "logstart": "LoggingMagics",
                "logstate": "LoggingMagics",
                "logstop": "LoggingMagics",
                "ls": "Other",
                "lsmagic": "BasicMagics",
                "macro": "ExecutionMagics",
                "magic": "BasicMagics",
                "matplotlib": "PylabMagics",
                "mkdir": "Other",
                "more": "KernelMagics",
                "notebook": "BasicMagics",
                "page": "BasicMagics",
                "pastebin": "CodeMagics",
                "pdb": "ExecutionMagics",
                "pdef": "NamespaceMagics",
                "pdoc": "NamespaceMagics",
                "pfile": "NamespaceMagics",
                "pinfo": "NamespaceMagics",
                "pinfo2": "NamespaceMagics",
                "pip": "BasicMagics",
                "popd": "OSMagics",
                "pprint": "BasicMagics",
                "precision": "BasicMagics",
                "prun": "ExecutionMagics",
                "psearch": "NamespaceMagics",
                "psource": "NamespaceMagics",
                "pushd": "OSMagics",
                "pwd": "OSMagics",
                "pycat": "OSMagics",
                "pylab": "PylabMagics",
                "qtconsole": "KernelMagics",
                "quickref": "BasicMagics",
                "recall": "HistoryMagics",
                "rehashx": "OSMagics",
                "reload_ext": "ExtensionMagics",
                "ren": "Other",
                "rep": "Other",
                "rerun": "HistoryMagics",
                "reset": "NamespaceMagics",
                "reset_selective": "NamespaceMagics",
                "rmdir": "Other",
                "run": "ExecutionMagics",
                "save": "CodeMagics",
                "sc": "OSMagics",
                "set_env": "OSMagics",
                "store": "StoreMagics",
                "sx": "OSMagics",
                "system": "OSMagics",
                "tb": "ExecutionMagics",
                "time": "ExecutionMagics",
                "timeit": "ExecutionMagics",
                "unalias": "OSMagics",
                "unload_ext": "ExtensionMagics",
                "who": "NamespaceMagics",
                "who_ls": "NamespaceMagics",
                "whos": "NamespaceMagics",
                "xdel": "NamespaceMagics",
                "xmode": "BasicMagics"
              }
            },
            "text/plain": [
              "Available line magics:\n",
              "%alias  %alias_magic  %autoawait  %autocall  %automagic  %autosave  %bookmark  %cd  %clear  %cls  %colors  %config  %connect_info  %copy  %ddir  %debug  %dhist  %dirs  %doctest_mode  %echo  %ed  %edit  %env  %gui  %hist  %history  %killbgscripts  %ldir  %less  %load  %load_ext  %loadpy  %logoff  %logon  %logstart  %logstate  %logstop  %ls  %lsmagic  %macro  %magic  %matplotlib  %mkdir  %more  %notebook  %page  %pastebin  %pdb  %pdef  %pdoc  %pfile  %pinfo  %pinfo2  %popd  %pprint  %precision  %prun  %psearch  %psource  %pushd  %pwd  %pycat  %pylab  %qtconsole  %quickref  %recall  %rehashx  %reload_ext  %ren  %rep  %rerun  %reset  %reset_selective  %rmdir  %run  %save  %sc  %set_env  %store  %sx  %system  %tb  %time  %timeit  %unalias  %unload_ext  %who  %who_ls  %whos  %xdel  %xmode\n",
              "\n",
              "Available cell magics:\n",
              "%%!  %%HTML  %%SVG  %%bash  %%capture  %%cmd  %%debug  %%file  %%html  %%javascript  %%js  %%latex  %%markdown  %%perl  %%prun  %%pypy  %%python  %%python2  %%python3  %%ruby  %%script  %%sh  %%svg  %%sx  %%system  %%time  %%timeit  %%writefile\n",
              "\n",
              "Automagic is ON, % prefix IS NOT needed for line magics."
            ]
          },
          "metadata": {
            "tags": []
          },
          "execution_count": 10
        }
      ]
    },
    {
      "metadata": {
        "scrolled": true,
        "id": "XvxpSQpkdRYX",
        "colab_type": "code",
        "outputId": "716c3e31-37e4-4c6e-d794-5eff9caf2fc8",
        "colab": {}
      },
      "cell_type": "code",
      "source": [
        "#Automaticly put in git folder \n",
        "!git clone https://github.com/fastai/course-v3"
      ],
      "execution_count": 0,
      "outputs": [
        {
          "output_type": "stream",
          "text": [
            "Cloning into 'course-v3'...\n"
          ],
          "name": "stderr"
        }
      ]
    },
    {
      "metadata": {
        "id": "qJ-LuT2EdRYZ",
        "colab_type": "code",
        "outputId": "2fb38efe-521b-4e47-a4a8-c6d700ac35d4",
        "colab": {}
      },
      "cell_type": "code",
      "source": [
        "cd course-v3"
      ],
      "execution_count": 0,
      "outputs": [
        {
          "output_type": "stream",
          "text": [
            "C:\\Users\\drahr\\Documents\\GitHub\\pr_tut\\course-v3\n"
          ],
          "name": "stdout"
        }
      ]
    },
    {
      "metadata": {
        "id": "D-LkIweHdRYc",
        "colab_type": "code",
        "outputId": "c3a6971b-1f3e-4194-b45e-ab0b1dfd17c0",
        "colab": {}
      },
      "cell_type": "code",
      "source": [
        "if sys.hexversion < 0x03060000: concatenate(display(HTML('<h1>Please re-run this script with python-3.6 or higher</h1>')),\n",
        "display(HTML(\"<a href='https://conda.io/docs/user-guide/tasks/manage-python.html' target='_blank'>Conda update</a>\")),\n",
        "print(\"some more printed text ...\"),\n",
        "display(sys.version),\n",
        "display(sys.version_info),\n",
        "display(HTML('<p>Paragraph text here ...</p>')), sys.exit(\"!!! Please re-run this script with python-3.6 or higher\")),\n",
        "    \n",
        "def run_script(script):\n",
        "    cmd = f\"{sys.executable} {script}\"\n",
        "    #print(f\"Executing: {cmd}\")\n",
        "    result = subprocess.run(cmd.split(), shell=False, check=False,\n",
        "                            stdout=subprocess.PIPE, stderr=subprocess.PIPE)\n",
        "\n",
        "    if result.returncode != 0: print(f\"Failed to execute: {cmd}\")\n",
        "    if result.stdout: print(f\"{result.stdout.decode('utf-8')}\")\n",
        "    if result.stderr: print(f\"Error: {result.stderr.decode('utf-8')}\")\n",
        "\n",
        "# make sure we are under the root of the project\n",
        "cur_dir = Path(\".\").resolve().name\n",
        "if (cur_dir == \"tools\"): os.chdir(\"..\")\n",
        "\n",
        "path = Path(\"tools\")\n",
        "\n",
        "# facilitate trusting of the repo-wide .gitconfig\n",
        "run_script(path/\"trust-origin-git-config\")"
      ],
      "execution_count": 0,
      "outputs": [
        {
          "output_type": "stream",
          "text": [
            "Executing: git config --local include.path ../.gitconfig\r\n",
            "Success: repo's .gitconfig is now trusted\r\n",
            "\n"
          ],
          "name": "stdout"
        }
      ]
    },
    {
      "metadata": {
        "id": "w2aqGeh9dRYf",
        "colab_type": "code",
        "colab": {}
      },
      "cell_type": "code",
      "source": [
        "github_username = \"Daniel-R-Armstrong\"\n",
        "repo_name = \"course-v3\"\n",
        "#chmod -command and system call \n",
        "# (a) is for all users\n",
        "# (x) is exicuted\n",
        "# curl -O , drops the path,and saves file in the current working directory,overwrite if existing.\n",
        "#uth - https # https or ssh\n",
        "#user_name - github_username\n",
        "#repo_name - name of repo\n",
        "#new_branch_name - new-feature"
      ],
      "execution_count": 0,
      "outputs": []
    },
    {
      "metadata": {
        "id": "KswwduxvdRYh",
        "colab_type": "code",
        "colab": {}
      },
      "cell_type": "code",
      "source": [
        "%%bash\n",
        "curl -O https://raw.githubusercontent.com/fastai/fastai/master/tools/fastai-make-pr-branch\n"
      ],
      "execution_count": 0,
      "outputs": []
    },
    {
      "metadata": {
        "id": "QvRy15_DdRYj",
        "colab_type": "code",
        "colab": {}
      },
      "cell_type": "code",
      "source": [
        "chmod a+x fastai-make-pr-branch\n",
        "./fastai-make-pr-branch https github_username repo_name new-feature\n"
      ],
      "execution_count": 0,
      "outputs": []
    },
    {
      "metadata": {
        "id": "nhSVJ1o6dRYm",
        "colab_type": "code",
        "colab": {}
      },
      "cell_type": "code",
      "source": [
        ""
      ],
      "execution_count": 0,
      "outputs": []
    }
  ]
}