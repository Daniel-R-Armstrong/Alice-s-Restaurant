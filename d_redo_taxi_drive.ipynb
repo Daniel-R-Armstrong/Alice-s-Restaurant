{
  "nbformat": 4,
  "nbformat_minor": 0,
  "metadata": {
    "colab": {
      "name": "d_redo_taxi.drive.ipynb",
      "version": "0.3.2",
      "provenance": [],
      "include_colab_link": true
    },
    "kernelspec": {
      "name": "python3",
      "display_name": "Python 3"
    }
  },
  "cells": [
    {
      "cell_type": "markdown",
      "metadata": {
        "id": "view-in-github",
        "colab_type": "text"
      },
      "source": [
        "<a href=\"https://colab.research.google.com/github/Daniel-R-Armstrong/Alice-s-Restaurant/blob/master/d_redo_taxi_drive.ipynb\" target=\"_parent\"><img src=\"https://colab.research.google.com/assets/colab-badge.svg\" alt=\"Open In Colab\"/></a>"
      ]
    },
    {
      "metadata": {
        "id": "4kAkD_D83YgH",
        "colab_type": "code",
        "colab": {}
      },
      "cell_type": "code",
      "source": [
        "import pandas as pd \n",
        "import pandas as pd\n",
        "import numpy as np\n",
        "import matplotlib.pyplot as plt\n",
        "plt.rcParams['figure.figsize']=[16,10]\n",
        "import seaborn as sns\n",
        "\n",
        "from sklearn.model_selection import train_test_split\n",
        "import xgboost as xgb\n",
        "\n",
        "%matplotlib inline\n",
        "plt.rcParams['axes.unicode_minus']= False\n"
      ],
      "execution_count": 0,
      "outputs": []
    },
    {
      "metadata": {
        "id": "8cOMZhrB1ZxS",
        "colab_type": "code",
        "outputId": "fa89710d-1672-4789-89d8-d9cf27d18a7c",
        "colab": {
          "base_uri": "https://localhost:8080/",
          "height": 34
        }
      },
      "cell_type": "code",
      "source": [
        "from googleapiclient.discovery import build\n",
        "import io, os\n",
        "from googleapiclient.http import MediaIoBaseDownload\n",
        "from google.colab import auth\n",
        "\n",
        "auth.authenticate_user()\n",
        "\n",
        "drive_service = build('drive', 'v3')\n",
        "results = drive_service.files().list(\n",
        "        q=\"name = 'kaggle.json'\", fields=\"files(id)\").execute()\n",
        "kaggle_api_key = results.get('files', [])\n",
        "\n",
        "filename = \"/content/.kaggle/kaggle.json\"\n",
        "os.makedirs(os.path.dirname(filename), exist_ok=True)\n",
        "\n",
        "request = drive_service.files().get_media(fileId=kaggle_api_key[0]['id'])\n",
        "fh = io.FileIO(filename, 'wb')\n",
        "downloader = MediaIoBaseDownload(fh, request)\n",
        "done = False\n",
        "while done is False:\n",
        "    status, done = downloader.next_chunk()\n",
        "    print(\"Download %d%%.\" % int(status.progress() * 100))\n",
        "os.chmod(filename, 600)"
      ],
      "execution_count": 0,
      "outputs": [
        {
          "output_type": "stream",
          "text": [
            "Download 100%.\n"
          ],
          "name": "stdout"
        }
      ]
    },
    {
      "metadata": {
        "id": "VwJL6Vuz2tgZ",
        "colab_type": "code",
        "outputId": "92339ac3-0fac-4369-df0b-a8ddac262db4",
        "colab": {
          "base_uri": "https://localhost:8080/",
          "height": 336
        }
      },
      "cell_type": "code",
      "source": [
        "!pip install kaggle \n"
      ],
      "execution_count": 0,
      "outputs": [
        {
          "output_type": "stream",
          "text": [
            "Collecting kaggle\n",
            "\u001b[?25l  Downloading https://files.pythonhosted.org/packages/ee/38/2ff56ee0fc735a33e1db17fdd5b71d9f3fee858f7c19d1e670d2e59d904c/kaggle-1.4.6.tar.gz (48kB)\n",
            "\u001b[K    100% |████████████████████████████████| 51kB 1.9MB/s \n",
            "\u001b[?25hRequirement already satisfied: urllib3<1.23.0,>=1.15 in /usr/local/lib/python3.6/dist-packages (from kaggle) (1.22)\n",
            "Requirement already satisfied: six>=1.10 in /usr/local/lib/python3.6/dist-packages (from kaggle) (1.11.0)\n",
            "Requirement already satisfied: certifi in /usr/local/lib/python3.6/dist-packages (from kaggle) (2018.8.13)\n",
            "Requirement already satisfied: python-dateutil in /usr/local/lib/python3.6/dist-packages (from kaggle) (2.5.3)\n",
            "Requirement already satisfied: requests in /usr/local/lib/python3.6/dist-packages (from kaggle) (2.18.4)\n",
            "Collecting tqdm (from kaggle)\n",
            "\u001b[?25l  Downloading https://files.pythonhosted.org/packages/7d/e6/19dfaff08fcbee7f3453e5b537e65a8364f1945f921a36d08be1e2ff3475/tqdm-4.24.0-py2.py3-none-any.whl (43kB)\n",
            "\u001b[K    100% |████████████████████████████████| 51kB 5.5MB/s \n",
            "\u001b[?25hRequirement already satisfied: idna<2.7,>=2.5 in /usr/local/lib/python3.6/dist-packages (from requests->kaggle) (2.6)\n",
            "Requirement already satisfied: chardet<3.1.0,>=3.0.2 in /usr/local/lib/python3.6/dist-packages (from requests->kaggle) (3.0.4)\n",
            "Building wheels for collected packages: kaggle\n",
            "  Running setup.py bdist_wheel for kaggle ... \u001b[?25l-\b \b\\\b \bdone\n",
            "\u001b[?25h  Stored in directory: /content/.cache/pip/wheels/56/65/d9/88f616157b8a1848ce77c35a398b09d0566ba1fd9cc34eaa03\n",
            "Successfully built kaggle\n",
            "Installing collected packages: tqdm, kaggle\n",
            "Successfully installed kaggle-1.4.6 tqdm-4.24.0\n"
          ],
          "name": "stdout"
        }
      ]
    },
    {
      "metadata": {
        "id": "7QuIny113DBf",
        "colab_type": "code",
        "colab": {}
      },
      "cell_type": "code",
      "source": [
        "!kaggle competitions list #gives a list of active competitions"
      ],
      "execution_count": 0,
      "outputs": []
    },
    {
      "metadata": {
        "id": "90BxnnZX3Oi6",
        "colab_type": "code",
        "outputId": "f34be22b-34a4-4868-d694-42f3db791730",
        "colab": {
          "base_uri": "https://localhost:8080/",
          "height": 151
        }
      },
      "cell_type": "code",
      "source": [
        "!kaggle competitions list -s taxi"
      ],
      "execution_count": 0,
      "outputs": [
        {
          "output_type": "stream",
          "text": [
            "ref                                        deadline             category       reward  teamCount  userHasEntered  \r\n",
            "-----------------------------------------  -------------------  ----------  ---------  ---------  --------------  \r\n",
            "nyc-taxi-trip-duration                     2017-09-15 23:59:00  Playground    $30,000       1257            True  \r\n",
            "pkdd-15-predict-taxi-service-trajectory-i  2015-07-01 23:59:00  Research         $250        381           False  \r\n",
            "pkdd-15-taxi-trip-time-prediction-ii       2015-07-01 23:59:00  Research         $250        345           False  \r\n",
            "new-york-city-taxi-fare-prediction         2018-09-25 23:59:00  Playground  Knowledge        460           False  \r\n",
            "porto-seguro-safe-driver-prediction        2017-11-29 23:59:00  Featured      $25,000       5169           False  \r\n",
            "spooky-author-identification               2017-12-15 23:59:00  Playground    $25,000       1244           False  \r\n"
          ],
          "name": "stdout"
        }
      ]
    },
    {
      "metadata": {
        "id": "UnbTvkRxff9Z",
        "colab_type": "code",
        "outputId": "39a3e040-2805-4aa5-f237-c157ed043746",
        "colab": {
          "base_uri": "https://localhost:8080/",
          "height": 2557
        }
      },
      "cell_type": "code",
      "source": [
        "# Install a Drive FUSE wrapper.\n",
        "# https://github.com/astrada/google-drive-ocamlfuse\n",
        "!apt-get install -y -qq software-properties-common python-software-properties module-init-tools\n",
        "!add-apt-repository -y ppa:alessandro-strada/ppa 2>&1 > /dev/null\n",
        "!apt-get update -qq 2>&1 > /dev/null\n",
        "!apt-get -y install -qq google-drive-ocamlfuse fuse\n",
        "\n",
        "\n",
        "\n",
        "# Generate auth tokens for Colab\n",
        "from google.colab import auth\n",
        "auth.authenticate_user()\n",
        "\n",
        "\n",
        "# Generate creds for the Drive FUSE library.\n",
        "from oauth2client.client import GoogleCredentials\n",
        "creds = GoogleCredentials.get_application_default()\n",
        "import getpass\n",
        "!google-drive-ocamlfuse -headless -id={creds.client_id} -secret={creds.client_secret} < /dev/null 2>&1 | grep URL\n",
        "vcode = getpass.getpass()\n",
        "!echo {vcode} | google-drive-ocamlfuse -headless -id={creds.client_id} -secret={creds.client_secret}\n",
        "\n",
        "\n",
        "# Create a directory and mount Google Drive using that directory.\n",
        "!mkdir -p drive\n",
        "!google-drive-ocamlfuse drive\n",
        "\n",
        "print ('Files in Drive:')\n",
        "!ls drive/\n",
        "\n",
        "# Create a file in Drive.\n",
        "!echo \"This newly created file will appear in your Drive file list.\" > drive/created.txt"
      ],
      "execution_count": 0,
      "outputs": [
        {
          "output_type": "stream",
          "text": [
            "Preconfiguring packages ...\n",
            "Selecting previously unselected package cron.\n",
            "(Reading database ... 18408 files and directories currently installed.)\n",
            "Preparing to unpack .../00-cron_3.0pl1-128ubuntu5_amd64.deb ...\n",
            "Unpacking cron (3.0pl1-128ubuntu5) ...\n",
            "Selecting previously unselected package libapparmor1:amd64.\n",
            "Preparing to unpack .../01-libapparmor1_2.11.0-2ubuntu17.1_amd64.deb ...\n",
            "Unpacking libapparmor1:amd64 (2.11.0-2ubuntu17.1) ...\n",
            "Selecting previously unselected package libdbus-1-3:amd64.\n",
            "Preparing to unpack .../02-libdbus-1-3_1.10.22-1ubuntu1_amd64.deb ...\n",
            "Unpacking libdbus-1-3:amd64 (1.10.22-1ubuntu1) ...\n",
            "Selecting previously unselected package dbus.\n",
            "Preparing to unpack .../03-dbus_1.10.22-1ubuntu1_amd64.deb ...\n",
            "Unpacking dbus (1.10.22-1ubuntu1) ...\n",
            "Selecting previously unselected package dirmngr.\n",
            "Preparing to unpack .../04-dirmngr_2.1.15-1ubuntu8.1_amd64.deb ...\n",
            "Unpacking dirmngr (2.1.15-1ubuntu8.1) ...\n",
            "Selecting previously unselected package distro-info-data.\n",
            "Preparing to unpack .../05-distro-info-data_0.36ubuntu0.2_all.deb ...\n",
            "Unpacking distro-info-data (0.36ubuntu0.2) ...\n",
            "Selecting previously unselected package libkmod2:amd64.\n",
            "Preparing to unpack .../06-libkmod2_24-1ubuntu2_amd64.deb ...\n",
            "Unpacking libkmod2:amd64 (24-1ubuntu2) ...\n",
            "Selecting previously unselected package kmod.\n",
            "Preparing to unpack .../07-kmod_24-1ubuntu2_amd64.deb ...\n",
            "Unpacking kmod (24-1ubuntu2) ...\n",
            "Selecting previously unselected package lsb-release.\n",
            "Preparing to unpack .../08-lsb-release_9.20160110ubuntu5_all.deb ...\n",
            "Unpacking lsb-release (9.20160110ubuntu5) ...\n",
            "Selecting previously unselected package libgirepository-1.0-1:amd64.\n",
            "Preparing to unpack .../09-libgirepository-1.0-1_1.54.1-1_amd64.deb ...\n",
            "Unpacking libgirepository-1.0-1:amd64 (1.54.1-1) ...\n",
            "Selecting previously unselected package gir1.2-glib-2.0:amd64.\n",
            "Preparing to unpack .../10-gir1.2-glib-2.0_1.54.1-1_amd64.deb ...\n",
            "Unpacking gir1.2-glib-2.0:amd64 (1.54.1-1) ...\n",
            "Selecting previously unselected package iso-codes.\n",
            "Preparing to unpack .../11-iso-codes_3.75-1_all.deb ...\n",
            "Unpacking iso-codes (3.75-1) ...\n",
            "Selecting previously unselected package libdbus-glib-1-2:amd64.\n",
            "Preparing to unpack .../12-libdbus-glib-1-2_0.108-2_amd64.deb ...\n",
            "Unpacking libdbus-glib-1-2:amd64 (0.108-2) ...\n",
            "Selecting previously unselected package python-apt-common.\n",
            "Preparing to unpack .../13-python-apt-common_1.4.0~beta3build2_all.deb ...\n",
            "Unpacking python-apt-common (1.4.0~beta3build2) ...\n",
            "Selecting previously unselected package python3-apt.\n",
            "Preparing to unpack .../14-python3-apt_1.4.0~beta3build2_amd64.deb ...\n",
            "Unpacking python3-apt (1.4.0~beta3build2) ...\n",
            "Selecting previously unselected package python3-dbus.\n",
            "Preparing to unpack .../15-python3-dbus_1.2.4-1build3_amd64.deb ...\n",
            "Unpacking python3-dbus (1.2.4-1build3) ...\n",
            "Selecting previously unselected package python3-gi.\n",
            "Preparing to unpack .../16-python3-gi_3.24.1-2build1_amd64.deb ...\n",
            "Unpacking python3-gi (3.24.1-2build1) ...\n",
            "Selecting previously unselected package module-init-tools.\n",
            "Preparing to unpack .../17-module-init-tools_24-1ubuntu2_all.deb ...\n",
            "Unpacking module-init-tools (24-1ubuntu2) ...\n",
            "Selecting previously unselected package python-apt.\n",
            "Preparing to unpack .../18-python-apt_1.4.0~beta3build2_amd64.deb ...\n",
            "Unpacking python-apt (1.4.0~beta3build2) ...\n",
            "Selecting previously unselected package python-pycurl.\n",
            "Preparing to unpack .../19-python-pycurl_7.43.0-2build2_amd64.deb ...\n",
            "Unpacking python-pycurl (7.43.0-2build2) ...\n",
            "Selecting previously unselected package python-software-properties.\n",
            "Preparing to unpack .../20-python-software-properties_0.96.24.17_all.deb ...\n",
            "Unpacking python-software-properties (0.96.24.17) ...\n",
            "Selecting previously unselected package python3-software-properties.\n",
            "Preparing to unpack .../21-python3-software-properties_0.96.24.17_all.deb ...\n",
            "Unpacking python3-software-properties (0.96.24.17) ...\n",
            "Selecting previously unselected package software-properties-common.\n",
            "Preparing to unpack .../22-software-properties-common_0.96.24.17_all.deb ...\n",
            "Unpacking software-properties-common (0.96.24.17) ...\n",
            "Selecting previously unselected package unattended-upgrades.\n",
            "Preparing to unpack .../23-unattended-upgrades_0.98ubuntu1.1_all.deb ...\n",
            "Unpacking unattended-upgrades (0.98ubuntu1.1) ...\n",
            "Setting up python-apt-common (1.4.0~beta3build2) ...\n",
            "Setting up python3-apt (1.4.0~beta3build2) ...\n",
            "Setting up iso-codes (3.75-1) ...\n",
            "Setting up distro-info-data (0.36ubuntu0.2) ...\n",
            "Setting up python-pycurl (7.43.0-2build2) ...\n",
            "Setting up lsb-release (9.20160110ubuntu5) ...\n",
            "Setting up libgirepository-1.0-1:amd64 (1.54.1-1) ...\n",
            "Setting up libkmod2:amd64 (24-1ubuntu2) ...\n",
            "Setting up gir1.2-glib-2.0:amd64 (1.54.1-1) ...\n",
            "Processing triggers for libc-bin (2.26-0ubuntu2.1) ...\n",
            "Setting up libapparmor1:amd64 (2.11.0-2ubuntu17.1) ...\n",
            "Setting up unattended-upgrades (0.98ubuntu1.1) ...\n",
            "\n",
            "Creating config file /etc/apt/apt.conf.d/20auto-upgrades with new version\n",
            "\n",
            "Creating config file /etc/apt/apt.conf.d/50unattended-upgrades with new version\n",
            "invoke-rc.d: could not determine current runlevel\n",
            "invoke-rc.d: policy-rc.d denied execution of start.\n",
            "Setting up dirmngr (2.1.15-1ubuntu8.1) ...\n",
            "Setting up cron (3.0pl1-128ubuntu5) ...\n",
            "Adding group `crontab' (GID 102) ...\n",
            "Done.\n",
            "update-rc.d: warning: start and stop actions are no longer supported; falling back to defaults\n",
            "update-rc.d: warning: stop runlevel arguments (1) do not match cron Default-Stop values (none)\n",
            "invoke-rc.d: could not determine current runlevel\n",
            "invoke-rc.d: policy-rc.d denied execution of start.\n",
            "Setting up libdbus-1-3:amd64 (1.10.22-1ubuntu1) ...\n",
            "Setting up kmod (24-1ubuntu2) ...\n",
            "Setting up libdbus-glib-1-2:amd64 (0.108-2) ...\n",
            "Setting up python3-gi (3.24.1-2build1) ...\n",
            "Setting up module-init-tools (24-1ubuntu2) ...\n",
            "Setting up python3-software-properties (0.96.24.17) ...\n",
            "Setting up dbus (1.10.22-1ubuntu1) ...\n",
            "Setting up python-apt (1.4.0~beta3build2) ...\n",
            "Setting up python3-dbus (1.2.4-1build3) ...\n",
            "Setting up python-software-properties (0.96.24.17) ...\n",
            "Setting up software-properties-common (0.96.24.17) ...\n",
            "Processing triggers for libc-bin (2.26-0ubuntu2.1) ...\n",
            "Processing triggers for dbus (1.10.22-1ubuntu1) ...\n",
            "gpg: keybox '/tmp/tmp53f4v8cx/pubring.gpg' created\n",
            "gpg: /tmp/tmp53f4v8cx/trustdb.gpg: trustdb created\n",
            "gpg: key AD5F235DF639B041: public key \"Launchpad PPA for Alessandro Strada\" imported\n",
            "gpg: Total number processed: 1\n",
            "gpg:               imported: 1\n",
            "Warning: apt-key output should not be parsed (stdout is not a terminal)\n",
            "Selecting previously unselected package libfuse2:amd64.\n",
            "(Reading database ... 19816 files and directories currently installed.)\n",
            "Preparing to unpack .../libfuse2_2.9.7-1ubuntu1_amd64.deb ...\n",
            "Unpacking libfuse2:amd64 (2.9.7-1ubuntu1) ...\n",
            "Selecting previously unselected package fuse.\n",
            "Preparing to unpack .../fuse_2.9.7-1ubuntu1_amd64.deb ...\n",
            "Unpacking fuse (2.9.7-1ubuntu1) ...\n",
            "Selecting previously unselected package google-drive-ocamlfuse.\n",
            "Preparing to unpack .../google-drive-ocamlfuse_0.6.21-0ubuntu2_amd64.deb ...\n",
            "Unpacking google-drive-ocamlfuse (0.6.21-0ubuntu2) ...\n",
            "Setting up libfuse2:amd64 (2.9.7-1ubuntu1) ...\n",
            "Processing triggers for libc-bin (2.26-0ubuntu2.1) ...\n",
            "Setting up fuse (2.9.7-1ubuntu1) ...\n",
            "Setting up google-drive-ocamlfuse (0.6.21-0ubuntu2) ...\n",
            "Please, open the following URL in a web browser: https://accounts.google.com/o/oauth2/auth?client_id=32555940559.apps.googleusercontent.com&redirect_uri=urn%3Aietf%3Awg%3Aoauth%3A2.0%3Aoob&scope=https%3A%2F%2Fwww.googleapis.com%2Fauth%2Fdrive&response_type=code&access_type=offline&approval_prompt=force\n",
            "··········\n",
            "Please, open the following URL in a web browser: https://accounts.google.com/o/oauth2/auth?client_id=32555940559.apps.googleusercontent.com&redirect_uri=urn%3Aietf%3Awg%3Aoauth%3A2.0%3Aoob&scope=https%3A%2F%2Fwww.googleapis.com%2Fauth%2Fdrive&response_type=code&access_type=offline&approval_prompt=force\n",
            "Please enter the verification code: Access token retrieved correctly.\n",
            "Files in Drive:\n",
            "Colab Notebooks     Music\n",
            "created.txt\t    Photos for baby book\n",
            "Dan School\t    Pictures\n",
            "drop box pictures   rusume & jobs\n",
            "Farming\t\t    stuff to save\n",
            "fav\t\t    taxes\n",
            "Getting started     Thomas movies\n",
            "Google Photos\t    To read\n",
            "Heather drive\t    Tri bottom project\n",
            "heather word docs   weather-data-in-new-york-city-2016.zip\n",
            "iPhone camera roll  weather_data_nyc_centralpark_2016(1).csv\n",
            "kaggle\t\t    Worth\n"
          ],
          "name": "stdout"
        }
      ]
    },
    {
      "metadata": {
        "id": "JJGiz9O5iExk",
        "colab_type": "code",
        "outputId": "ba4203c4-1797-4867-d99a-c72afefe36ec",
        "colab": {
          "base_uri": "https://localhost:8080/",
          "height": 218
        }
      },
      "cell_type": "code",
      "source": [
        "ls drive"
      ],
      "execution_count": 0,
      "outputs": [
        {
          "output_type": "stream",
          "text": [
            "\u001b[0m\u001b[01;34mColab Notebooks\u001b[0m/     \u001b[01;34mMusic\u001b[0m/\r\n",
            "created.txt          \u001b[01;34mPhotos for baby book\u001b[0m/\r\n",
            "\u001b[01;34mDan School\u001b[0m/          \u001b[01;34mPictures\u001b[0m/\r\n",
            "\u001b[01;34mdrop box pictures\u001b[0m/   \u001b[01;34mrusume & jobs\u001b[0m/\r\n",
            "\u001b[01;34mFarming\u001b[0m/             \u001b[01;34mstuff to save\u001b[0m/\r\n",
            "\u001b[01;34mfav\u001b[0m/                 \u001b[01;34mtaxes\u001b[0m/\r\n",
            "Getting started      \u001b[01;34mThomas movies\u001b[0m/\r\n",
            "\u001b[01;34mGoogle Photos\u001b[0m/       \u001b[01;34mTo read\u001b[0m/\r\n",
            "\u001b[01;34mHeather drive\u001b[0m/       \u001b[01;34mTri bottom project\u001b[0m/\r\n",
            "\u001b[01;34mheather word docs\u001b[0m/   weather-data-in-new-york-city-2016.zip\r\n",
            "\u001b[01;34miPhone camera roll\u001b[0m/  weather_data_nyc_centralpark_2016(1).csv\r\n",
            "\u001b[01;34mkaggle\u001b[0m/              \u001b[01;34mWorth\u001b[0m/\r\n"
          ],
          "name": "stdout"
        }
      ]
    },
    {
      "metadata": {
        "id": "BZyORgQ-kjwp",
        "colab_type": "code",
        "outputId": "7d813e70-329d-4390-a9a2-d91de534c5de",
        "colab": {
          "base_uri": "https://localhost:8080/",
          "height": 67
        }
      },
      "cell_type": "code",
      "source": [
        "!kaggle competitions download  -c nyc-taxi-trip-duration -p drive/kaggle "
      ],
      "execution_count": 0,
      "outputs": [
        {
          "output_type": "stream",
          "text": [
            "sample_submission.zip: Skipping, found more recently modified local copy (use --force to force download)\n",
            "test.zip: Skipping, found more recently modified local copy (use --force to force download)\n",
            "train.zip: Skipping, found more recently modified local copy (use --force to force download)\n"
          ],
          "name": "stdout"
        }
      ]
    },
    {
      "metadata": {
        "id": "YtMJk6P0oJ1N",
        "colab_type": "code",
        "colab": {}
      },
      "cell_type": "code",
      "source": [
        "from shutil import unpack_archive\n",
        "unpack_archive('drive/kaggle/test.zip')\n",
        "unpack_archive('drive/kaggle/train.zip')\n",
        "#what I found it that if you use this it will put them in the colab file system to use as a csv file so you can call them by name(test.csv, train.csv, ect)"
      ],
      "execution_count": 0,
      "outputs": []
    },
    {
      "metadata": {
        "id": "aMuzs5NX1VYl",
        "colab_type": "code",
        "outputId": "f494aa5f-f87e-4327-b30a-0e6739d249f5",
        "colab": {
          "base_uri": "https://localhost:8080/",
          "height": 34
        }
      },
      "cell_type": "code",
      "source": [
        "ls "
      ],
      "execution_count": 0,
      "outputs": [
        {
          "output_type": "stream",
          "text": [
            "\u001b[0m\u001b[01;34mdatalab\u001b[0m/  \u001b[01;34mdrive\u001b[0m/  test.csv  train.csv\r\n"
          ],
          "name": "stdout"
        }
      ]
    },
    {
      "metadata": {
        "id": "3-gQHS7glP1X",
        "colab_type": "code",
        "colab": {}
      },
      "cell_type": "code",
      "source": [
        "#   train = pd.read_csv('drive/toxic_competition/train.csv', encoding = 'utf8') sub.to_csv('drive/toxic_competition/submission.csv', index=False)"
      ],
      "execution_count": 0,
      "outputs": []
    },
    {
      "metadata": {
        "id": "iKGP2t4psbXo",
        "colab_type": "code",
        "colab": {}
      },
      "cell_type": "code",
      "source": [
        "df_train = pd.read_csv('train.csv', header=0, sep=',', quotechar='\"')\n",
        "df_test = pd.read_csv('test.csv', header=0, sep=',', quotechar='\"')"
      ],
      "execution_count": 0,
      "outputs": []
    },
    {
      "metadata": {
        "id": "NF0_IhiCsbj_",
        "colab_type": "code",
        "outputId": "38d27706-a717-4efb-f4b8-476c5b5ad5f3",
        "colab": {
          "base_uri": "https://localhost:8080/",
          "height": 299
        }
      },
      "cell_type": "code",
      "source": [
        "df_train.head()"
      ],
      "execution_count": 0,
      "outputs": [
        {
          "output_type": "execute_result",
          "data": {
            "text/html": [
              "<div>\n",
              "<style scoped>\n",
              "    .dataframe tbody tr th:only-of-type {\n",
              "        vertical-align: middle;\n",
              "    }\n",
              "\n",
              "    .dataframe tbody tr th {\n",
              "        vertical-align: top;\n",
              "    }\n",
              "\n",
              "    .dataframe thead th {\n",
              "        text-align: right;\n",
              "    }\n",
              "</style>\n",
              "<table border=\"1\" class=\"dataframe\">\n",
              "  <thead>\n",
              "    <tr style=\"text-align: right;\">\n",
              "      <th></th>\n",
              "      <th>id</th>\n",
              "      <th>vendor_id</th>\n",
              "      <th>pickup_datetime</th>\n",
              "      <th>dropoff_datetime</th>\n",
              "      <th>passenger_count</th>\n",
              "      <th>pickup_longitude</th>\n",
              "      <th>pickup_latitude</th>\n",
              "      <th>dropoff_longitude</th>\n",
              "      <th>dropoff_latitude</th>\n",
              "      <th>store_and_fwd_flag</th>\n",
              "      <th>trip_duration</th>\n",
              "    </tr>\n",
              "  </thead>\n",
              "  <tbody>\n",
              "    <tr>\n",
              "      <th>0</th>\n",
              "      <td>id2875421</td>\n",
              "      <td>2</td>\n",
              "      <td>2016-03-14 17:24:55</td>\n",
              "      <td>2016-03-14 17:32:30</td>\n",
              "      <td>1</td>\n",
              "      <td>-73.982155</td>\n",
              "      <td>40.767937</td>\n",
              "      <td>-73.964630</td>\n",
              "      <td>40.765602</td>\n",
              "      <td>N</td>\n",
              "      <td>455</td>\n",
              "    </tr>\n",
              "    <tr>\n",
              "      <th>1</th>\n",
              "      <td>id2377394</td>\n",
              "      <td>1</td>\n",
              "      <td>2016-06-12 00:43:35</td>\n",
              "      <td>2016-06-12 00:54:38</td>\n",
              "      <td>1</td>\n",
              "      <td>-73.980415</td>\n",
              "      <td>40.738564</td>\n",
              "      <td>-73.999481</td>\n",
              "      <td>40.731152</td>\n",
              "      <td>N</td>\n",
              "      <td>663</td>\n",
              "    </tr>\n",
              "    <tr>\n",
              "      <th>2</th>\n",
              "      <td>id3858529</td>\n",
              "      <td>2</td>\n",
              "      <td>2016-01-19 11:35:24</td>\n",
              "      <td>2016-01-19 12:10:48</td>\n",
              "      <td>1</td>\n",
              "      <td>-73.979027</td>\n",
              "      <td>40.763939</td>\n",
              "      <td>-74.005333</td>\n",
              "      <td>40.710087</td>\n",
              "      <td>N</td>\n",
              "      <td>2124</td>\n",
              "    </tr>\n",
              "    <tr>\n",
              "      <th>3</th>\n",
              "      <td>id3504673</td>\n",
              "      <td>2</td>\n",
              "      <td>2016-04-06 19:32:31</td>\n",
              "      <td>2016-04-06 19:39:40</td>\n",
              "      <td>1</td>\n",
              "      <td>-74.010040</td>\n",
              "      <td>40.719971</td>\n",
              "      <td>-74.012268</td>\n",
              "      <td>40.706718</td>\n",
              "      <td>N</td>\n",
              "      <td>429</td>\n",
              "    </tr>\n",
              "    <tr>\n",
              "      <th>4</th>\n",
              "      <td>id2181028</td>\n",
              "      <td>2</td>\n",
              "      <td>2016-03-26 13:30:55</td>\n",
              "      <td>2016-03-26 13:38:10</td>\n",
              "      <td>1</td>\n",
              "      <td>-73.973053</td>\n",
              "      <td>40.793209</td>\n",
              "      <td>-73.972923</td>\n",
              "      <td>40.782520</td>\n",
              "      <td>N</td>\n",
              "      <td>435</td>\n",
              "    </tr>\n",
              "  </tbody>\n",
              "</table>\n",
              "</div>"
            ],
            "text/plain": [
              "          id  vendor_id      pickup_datetime     dropoff_datetime  \\\n",
              "0  id2875421          2  2016-03-14 17:24:55  2016-03-14 17:32:30   \n",
              "1  id2377394          1  2016-06-12 00:43:35  2016-06-12 00:54:38   \n",
              "2  id3858529          2  2016-01-19 11:35:24  2016-01-19 12:10:48   \n",
              "3  id3504673          2  2016-04-06 19:32:31  2016-04-06 19:39:40   \n",
              "4  id2181028          2  2016-03-26 13:30:55  2016-03-26 13:38:10   \n",
              "\n",
              "   passenger_count  pickup_longitude  pickup_latitude  dropoff_longitude  \\\n",
              "0                1        -73.982155        40.767937         -73.964630   \n",
              "1                1        -73.980415        40.738564         -73.999481   \n",
              "2                1        -73.979027        40.763939         -74.005333   \n",
              "3                1        -74.010040        40.719971         -74.012268   \n",
              "4                1        -73.973053        40.793209         -73.972923   \n",
              "\n",
              "   dropoff_latitude store_and_fwd_flag  trip_duration  \n",
              "0         40.765602                  N            455  \n",
              "1         40.731152                  N            663  \n",
              "2         40.710087                  N           2124  \n",
              "3         40.706718                  N            429  \n",
              "4         40.782520                  N            435  "
            ]
          },
          "metadata": {
            "tags": []
          },
          "execution_count": 12
        }
      ]
    },
    {
      "metadata": {
        "id": "ozWcgWeL1gZ6",
        "colab_type": "code",
        "outputId": "be9e9d6a-ee87-4f3e-e15b-051fc52e14b2",
        "colab": {
          "base_uri": "https://localhost:8080/",
          "height": 299
        }
      },
      "cell_type": "code",
      "source": [
        "pd.set_option('display.float_format', lambda x: '%.3f' % x) #sets pandas float to three digets, I think it makes it easier to look at more pandas settings at (https://pandas.pydata.org/pandas-docs/stable/generated/pandas.set_option.html\n",
        "df_train.head()"
      ],
      "execution_count": 0,
      "outputs": [
        {
          "output_type": "execute_result",
          "data": {
            "text/html": [
              "<div>\n",
              "<style scoped>\n",
              "    .dataframe tbody tr th:only-of-type {\n",
              "        vertical-align: middle;\n",
              "    }\n",
              "\n",
              "    .dataframe tbody tr th {\n",
              "        vertical-align: top;\n",
              "    }\n",
              "\n",
              "    .dataframe thead th {\n",
              "        text-align: right;\n",
              "    }\n",
              "</style>\n",
              "<table border=\"1\" class=\"dataframe\">\n",
              "  <thead>\n",
              "    <tr style=\"text-align: right;\">\n",
              "      <th></th>\n",
              "      <th>id</th>\n",
              "      <th>vendor_id</th>\n",
              "      <th>pickup_datetime</th>\n",
              "      <th>dropoff_datetime</th>\n",
              "      <th>passenger_count</th>\n",
              "      <th>pickup_longitude</th>\n",
              "      <th>pickup_latitude</th>\n",
              "      <th>dropoff_longitude</th>\n",
              "      <th>dropoff_latitude</th>\n",
              "      <th>store_and_fwd_flag</th>\n",
              "      <th>trip_duration</th>\n",
              "    </tr>\n",
              "  </thead>\n",
              "  <tbody>\n",
              "    <tr>\n",
              "      <th>0</th>\n",
              "      <td>id2875421</td>\n",
              "      <td>2</td>\n",
              "      <td>2016-03-14 17:24:55</td>\n",
              "      <td>2016-03-14 17:32:30</td>\n",
              "      <td>1</td>\n",
              "      <td>-73.982</td>\n",
              "      <td>40.768</td>\n",
              "      <td>-73.965</td>\n",
              "      <td>40.766</td>\n",
              "      <td>N</td>\n",
              "      <td>455</td>\n",
              "    </tr>\n",
              "    <tr>\n",
              "      <th>1</th>\n",
              "      <td>id2377394</td>\n",
              "      <td>1</td>\n",
              "      <td>2016-06-12 00:43:35</td>\n",
              "      <td>2016-06-12 00:54:38</td>\n",
              "      <td>1</td>\n",
              "      <td>-73.980</td>\n",
              "      <td>40.739</td>\n",
              "      <td>-73.999</td>\n",
              "      <td>40.731</td>\n",
              "      <td>N</td>\n",
              "      <td>663</td>\n",
              "    </tr>\n",
              "    <tr>\n",
              "      <th>2</th>\n",
              "      <td>id3858529</td>\n",
              "      <td>2</td>\n",
              "      <td>2016-01-19 11:35:24</td>\n",
              "      <td>2016-01-19 12:10:48</td>\n",
              "      <td>1</td>\n",
              "      <td>-73.979</td>\n",
              "      <td>40.764</td>\n",
              "      <td>-74.005</td>\n",
              "      <td>40.710</td>\n",
              "      <td>N</td>\n",
              "      <td>2124</td>\n",
              "    </tr>\n",
              "    <tr>\n",
              "      <th>3</th>\n",
              "      <td>id3504673</td>\n",
              "      <td>2</td>\n",
              "      <td>2016-04-06 19:32:31</td>\n",
              "      <td>2016-04-06 19:39:40</td>\n",
              "      <td>1</td>\n",
              "      <td>-74.010</td>\n",
              "      <td>40.720</td>\n",
              "      <td>-74.012</td>\n",
              "      <td>40.707</td>\n",
              "      <td>N</td>\n",
              "      <td>429</td>\n",
              "    </tr>\n",
              "    <tr>\n",
              "      <th>4</th>\n",
              "      <td>id2181028</td>\n",
              "      <td>2</td>\n",
              "      <td>2016-03-26 13:30:55</td>\n",
              "      <td>2016-03-26 13:38:10</td>\n",
              "      <td>1</td>\n",
              "      <td>-73.973</td>\n",
              "      <td>40.793</td>\n",
              "      <td>-73.973</td>\n",
              "      <td>40.783</td>\n",
              "      <td>N</td>\n",
              "      <td>435</td>\n",
              "    </tr>\n",
              "  </tbody>\n",
              "</table>\n",
              "</div>"
            ],
            "text/plain": [
              "          id  vendor_id      pickup_datetime     dropoff_datetime  \\\n",
              "0  id2875421          2  2016-03-14 17:24:55  2016-03-14 17:32:30   \n",
              "1  id2377394          1  2016-06-12 00:43:35  2016-06-12 00:54:38   \n",
              "2  id3858529          2  2016-01-19 11:35:24  2016-01-19 12:10:48   \n",
              "3  id3504673          2  2016-04-06 19:32:31  2016-04-06 19:39:40   \n",
              "4  id2181028          2  2016-03-26 13:30:55  2016-03-26 13:38:10   \n",
              "\n",
              "   passenger_count  pickup_longitude  pickup_latitude  dropoff_longitude  \\\n",
              "0                1           -73.982           40.768            -73.965   \n",
              "1                1           -73.980           40.739            -73.999   \n",
              "2                1           -73.979           40.764            -74.005   \n",
              "3                1           -74.010           40.720            -74.012   \n",
              "4                1           -73.973           40.793            -73.973   \n",
              "\n",
              "   dropoff_latitude store_and_fwd_flag  trip_duration  \n",
              "0            40.766                  N            455  \n",
              "1            40.731                  N            663  \n",
              "2            40.710                  N           2124  \n",
              "3            40.707                  N            429  \n",
              "4            40.783                  N            435  "
            ]
          },
          "metadata": {
            "tags": []
          },
          "execution_count": 13
        }
      ]
    },
    {
      "metadata": {
        "id": "o8Gq8gXe1uFn",
        "colab_type": "code",
        "outputId": "860296c4-40c6-4249-dad4-b9c6963891a9",
        "colab": {
          "base_uri": "https://localhost:8080/",
          "height": 284
        }
      },
      "cell_type": "code",
      "source": [
        "df_train.describe() "
      ],
      "execution_count": 0,
      "outputs": [
        {
          "output_type": "execute_result",
          "data": {
            "text/html": [
              "<div>\n",
              "<style scoped>\n",
              "    .dataframe tbody tr th:only-of-type {\n",
              "        vertical-align: middle;\n",
              "    }\n",
              "\n",
              "    .dataframe tbody tr th {\n",
              "        vertical-align: top;\n",
              "    }\n",
              "\n",
              "    .dataframe thead th {\n",
              "        text-align: right;\n",
              "    }\n",
              "</style>\n",
              "<table border=\"1\" class=\"dataframe\">\n",
              "  <thead>\n",
              "    <tr style=\"text-align: right;\">\n",
              "      <th></th>\n",
              "      <th>vendor_id</th>\n",
              "      <th>passenger_count</th>\n",
              "      <th>pickup_longitude</th>\n",
              "      <th>pickup_latitude</th>\n",
              "      <th>dropoff_longitude</th>\n",
              "      <th>dropoff_latitude</th>\n",
              "      <th>trip_duration</th>\n",
              "    </tr>\n",
              "  </thead>\n",
              "  <tbody>\n",
              "    <tr>\n",
              "      <th>count</th>\n",
              "      <td>1458644.000</td>\n",
              "      <td>1458644.000</td>\n",
              "      <td>1458644.000</td>\n",
              "      <td>1458644.000</td>\n",
              "      <td>1458644.000</td>\n",
              "      <td>1458644.000</td>\n",
              "      <td>1458644.000</td>\n",
              "    </tr>\n",
              "    <tr>\n",
              "      <th>mean</th>\n",
              "      <td>1.535</td>\n",
              "      <td>1.665</td>\n",
              "      <td>-73.973</td>\n",
              "      <td>40.751</td>\n",
              "      <td>-73.973</td>\n",
              "      <td>40.752</td>\n",
              "      <td>959.492</td>\n",
              "    </tr>\n",
              "    <tr>\n",
              "      <th>std</th>\n",
              "      <td>0.499</td>\n",
              "      <td>1.314</td>\n",
              "      <td>0.071</td>\n",
              "      <td>0.033</td>\n",
              "      <td>0.071</td>\n",
              "      <td>0.036</td>\n",
              "      <td>5237.432</td>\n",
              "    </tr>\n",
              "    <tr>\n",
              "      <th>min</th>\n",
              "      <td>1.000</td>\n",
              "      <td>0.000</td>\n",
              "      <td>-121.933</td>\n",
              "      <td>34.360</td>\n",
              "      <td>-121.933</td>\n",
              "      <td>32.181</td>\n",
              "      <td>1.000</td>\n",
              "    </tr>\n",
              "    <tr>\n",
              "      <th>25%</th>\n",
              "      <td>1.000</td>\n",
              "      <td>1.000</td>\n",
              "      <td>-73.992</td>\n",
              "      <td>40.737</td>\n",
              "      <td>-73.991</td>\n",
              "      <td>40.736</td>\n",
              "      <td>397.000</td>\n",
              "    </tr>\n",
              "    <tr>\n",
              "      <th>50%</th>\n",
              "      <td>2.000</td>\n",
              "      <td>1.000</td>\n",
              "      <td>-73.982</td>\n",
              "      <td>40.754</td>\n",
              "      <td>-73.980</td>\n",
              "      <td>40.755</td>\n",
              "      <td>662.000</td>\n",
              "    </tr>\n",
              "    <tr>\n",
              "      <th>75%</th>\n",
              "      <td>2.000</td>\n",
              "      <td>2.000</td>\n",
              "      <td>-73.967</td>\n",
              "      <td>40.768</td>\n",
              "      <td>-73.963</td>\n",
              "      <td>40.770</td>\n",
              "      <td>1075.000</td>\n",
              "    </tr>\n",
              "    <tr>\n",
              "      <th>max</th>\n",
              "      <td>2.000</td>\n",
              "      <td>9.000</td>\n",
              "      <td>-61.336</td>\n",
              "      <td>51.881</td>\n",
              "      <td>-61.336</td>\n",
              "      <td>43.921</td>\n",
              "      <td>3526282.000</td>\n",
              "    </tr>\n",
              "  </tbody>\n",
              "</table>\n",
              "</div>"
            ],
            "text/plain": [
              "        vendor_id  passenger_count  pickup_longitude  pickup_latitude  \\\n",
              "count 1458644.000      1458644.000       1458644.000      1458644.000   \n",
              "mean        1.535            1.665           -73.973           40.751   \n",
              "std         0.499            1.314             0.071            0.033   \n",
              "min         1.000            0.000          -121.933           34.360   \n",
              "25%         1.000            1.000           -73.992           40.737   \n",
              "50%         2.000            1.000           -73.982           40.754   \n",
              "75%         2.000            2.000           -73.967           40.768   \n",
              "max         2.000            9.000           -61.336           51.881   \n",
              "\n",
              "       dropoff_longitude  dropoff_latitude  trip_duration  \n",
              "count        1458644.000       1458644.000    1458644.000  \n",
              "mean             -73.973            40.752        959.492  \n",
              "std                0.071             0.036       5237.432  \n",
              "min             -121.933            32.181          1.000  \n",
              "25%              -73.991            40.736        397.000  \n",
              "50%              -73.980            40.755        662.000  \n",
              "75%              -73.963            40.770       1075.000  \n",
              "max              -61.336            43.921    3526282.000  "
            ]
          },
          "metadata": {
            "tags": []
          },
          "execution_count": 14
        }
      ]
    },
    {
      "metadata": {
        "id": "jAfO_kht6Etz",
        "colab_type": "text"
      },
      "cell_type": "markdown",
      "source": [
        "I personally love to look at the pandas summary. It gives me a chance to think about the categories and think more about what they mean, and what features I feel would be helpful. \n",
        "\n",
        "As a former boy scout/Eagle scout I am sad to say that I don’t remember anything about latitude and longitude. Just like most types of domain knowledge it would be helpful to know what you are looking at and what you are looking for, but I don’t think it is a requirement, you just need to know what to look for in your data. \n",
        "\n",
        "The pickup_longitude is a great example a minimum of -121.93 and a maximum of -61.33, that doesn’t mean anything but when you add the 25 ,50, and 75 percentiles at all around 73.9, you know there is a problem, most likely it is a sign that we need to do some data cleaning. The same is true with the trip_duration a tripe with 1(min) a trip with 3526282 (max)\n"
      ]
    },
    {
      "metadata": {
        "id": "2Jj7_ryz3J2P",
        "colab_type": "code",
        "outputId": "b651d75e-6462-4a6b-a33d-81074ce6d948",
        "colab": {
          "base_uri": "https://localhost:8080/",
          "height": 286
        }
      },
      "cell_type": "code",
      "source": [
        "df_train.info() #look for null values and anything else that sticks out that could be an issues/feature"
      ],
      "execution_count": 0,
      "outputs": [
        {
          "output_type": "stream",
          "text": [
            "<class 'pandas.core.frame.DataFrame'>\n",
            "RangeIndex: 1458644 entries, 0 to 1458643\n",
            "Data columns (total 11 columns):\n",
            "id                    1458644 non-null object\n",
            "vendor_id             1458644 non-null int64\n",
            "pickup_datetime       1458644 non-null object\n",
            "dropoff_datetime      1458644 non-null object\n",
            "passenger_count       1458644 non-null int64\n",
            "pickup_longitude      1458644 non-null float64\n",
            "pickup_latitude       1458644 non-null float64\n",
            "dropoff_longitude     1458644 non-null float64\n",
            "dropoff_latitude      1458644 non-null float64\n",
            "store_and_fwd_flag    1458644 non-null object\n",
            "trip_duration         1458644 non-null int64\n",
            "dtypes: float64(4), int64(3), object(4)\n",
            "memory usage: 122.4+ MB\n"
          ],
          "name": "stdout"
        }
      ]
    },
    {
      "metadata": {
        "id": "IpWRv9CJJpyF",
        "colab_type": "text"
      },
      "cell_type": "markdown",
      "source": [
        "Since *pickup_datetim*e and *dropoff_datetime* are labled as object we are going to want to change this to a date time object so we can create more features and help with the training. \n",
        "\n"
      ]
    },
    {
      "metadata": {
        "id": "MK5ld_MwJfnx",
        "colab_type": "code",
        "colab": {}
      },
      "cell_type": "code",
      "source": [
        "df_train['pickup_datetime'] = pd.to_datetime(df_train.pickup_datetime)\n",
        "df_test['pickup_datetime'] = pd.to_datetime(df_test.pickup_datetime)\n",
        "df_train.loc[:, 'pickup_date'] = df_train['pickup_datetime'].dt.date #come back to this it doesnt seem like it is changing to .date still object, tried df_train['pickup_date'] = df_train['pickup_datetime'].dt.date, the result was the same. \n",
        "df_test.loc[:, 'pickup_date'] = df_test['pickup_datetime'].dt.date #\"\"  \n",
        "          #.loc is a way to select data by label or by a conditional statment (.loc)     https://www.shanelynn.ie/select-pandas-dataframe-rows-and-columns-using-iloc-loc-and-ix/#loc-selection\n",
        "df_train['dropoff_datetime'] = pd.to_datetime(df_train.dropoff_datetime)#this is not present in test set, so we are only doing it on training set"
      ],
      "execution_count": 0,
      "outputs": []
    },
    {
      "metadata": {
        "id": "FcbW7XAwKkHM",
        "colab_type": "code",
        "outputId": "e0468b44-6567-48d9-c824-430152260b6b",
        "colab": {
          "base_uri": "https://localhost:8080/",
          "height": 302
        }
      },
      "cell_type": "code",
      "source": [
        "df_train.info()#see how it has been changed to datetime64[ns]\n"
      ],
      "execution_count": 0,
      "outputs": [
        {
          "output_type": "stream",
          "text": [
            "<class 'pandas.core.frame.DataFrame'>\n",
            "RangeIndex: 1458644 entries, 0 to 1458643\n",
            "Data columns (total 12 columns):\n",
            "id                    1458644 non-null object\n",
            "vendor_id             1458644 non-null int64\n",
            "pickup_datetime       1458644 non-null datetime64[ns]\n",
            "dropoff_datetime      1458644 non-null datetime64[ns]\n",
            "passenger_count       1458644 non-null int64\n",
            "pickup_longitude      1458644 non-null float64\n",
            "pickup_latitude       1458644 non-null float64\n",
            "dropoff_longitude     1458644 non-null float64\n",
            "dropoff_latitude      1458644 non-null float64\n",
            "store_and_fwd_flag    1458644 non-null object\n",
            "trip_duration         1458644 non-null int64\n",
            "pickup_date           1458644 non-null object\n",
            "dtypes: datetime64[ns](2), float64(4), int64(3), object(3)\n",
            "memory usage: 133.5+ MB\n"
          ],
          "name": "stdout"
        }
      ]
    },
    {
      "metadata": {
        "id": "nKBXdlzUGACs",
        "colab_type": "code",
        "colab": {}
      },
      "cell_type": "code",
      "source": [
        "mean_trip = np.mean(df_train['trip_duration'])#mean\n",
        "std_trip = np.std(df_train['trip_duration']) #standard deviation\n",
        "df_train = df_train[df_train['trip_duration'] <= mean_trip + 2*std_trip] #remove trips more than 2 standard devition over mean\n",
        "df_train = df_train[df_train['trip_duration'] >= mean_trip - 2*std_trip] #remove trips more than 2 standard devition below mean"
      ],
      "execution_count": 0,
      "outputs": []
    },
    {
      "metadata": {
        "id": "G6Mj6bXqIQsP",
        "colab_type": "text"
      },
      "cell_type": "markdown",
      "source": [
        "the google machine states that the latitude and longitude of New York city are:\n",
        "\n",
        "West -74.257159 East -73.699215\n",
        "North 40.915568 South 40.495992\n",
        "\n",
        "\n",
        "https://www1.nyc.gov/assets/planning/download/pdf/data-maps/open-data/nybb_metadata.pdf?ver=18b\n"
      ]
    },
    {
      "metadata": {
        "id": "JwT7OzZx3KNA",
        "colab_type": "code",
        "colab": {}
      },
      "cell_type": "code",
      "source": [
        "df_train = df_train[df_train['pickup_longitude'] <= -73.699215]\n",
        "df_train = df_train[df_train['pickup_longitude'] >= -74.257159]\n",
        "df_train = df_train[df_train['pickup_latitude'] <= 40.915568]\n",
        "df_train = df_train[df_train['pickup_latitude'] >= 40.495992]\n",
        "df_train = df_train[df_train['dropoff_longitude'] <= -73.699215]\n",
        "df_train = df_train[df_train['dropoff_longitude'] >= -74.257159]\n",
        "df_train = df_train[df_train['dropoff_latitude'] <= 40.915568]\n",
        "df_train = df_train[df_train['dropoff_latitude'] >= 40.495992]\n",
        "#these are different that other kagglers so hopefully this wont cause any issues"
      ],
      "execution_count": 0,
      "outputs": []
    },
    {
      "metadata": {
        "id": "Cm8mrr0k3KaH",
        "colab_type": "code",
        "outputId": "1541d89e-37ad-4eca-bf88-4110b18a0d61",
        "colab": {
          "base_uri": "https://localhost:8080/",
          "height": 284
        }
      },
      "cell_type": "code",
      "source": [
        "df_train.describe()"
      ],
      "execution_count": 0,
      "outputs": [
        {
          "output_type": "execute_result",
          "data": {
            "text/html": [
              "<div>\n",
              "<style scoped>\n",
              "    .dataframe tbody tr th:only-of-type {\n",
              "        vertical-align: middle;\n",
              "    }\n",
              "\n",
              "    .dataframe tbody tr th {\n",
              "        vertical-align: top;\n",
              "    }\n",
              "\n",
              "    .dataframe thead th {\n",
              "        text-align: right;\n",
              "    }\n",
              "</style>\n",
              "<table border=\"1\" class=\"dataframe\">\n",
              "  <thead>\n",
              "    <tr style=\"text-align: right;\">\n",
              "      <th></th>\n",
              "      <th>vendor_id</th>\n",
              "      <th>passenger_count</th>\n",
              "      <th>pickup_longitude</th>\n",
              "      <th>pickup_latitude</th>\n",
              "      <th>dropoff_longitude</th>\n",
              "      <th>dropoff_latitude</th>\n",
              "      <th>trip_duration</th>\n",
              "    </tr>\n",
              "  </thead>\n",
              "  <tbody>\n",
              "    <tr>\n",
              "      <th>count</th>\n",
              "      <td>1455201.000</td>\n",
              "      <td>1455201.000</td>\n",
              "      <td>1455201.000</td>\n",
              "      <td>1455201.000</td>\n",
              "      <td>1455201.000</td>\n",
              "      <td>1455201.000</td>\n",
              "      <td>1455201.000</td>\n",
              "    </tr>\n",
              "    <tr>\n",
              "      <th>mean</th>\n",
              "      <td>1.534</td>\n",
              "      <td>1.664</td>\n",
              "      <td>-73.974</td>\n",
              "      <td>40.751</td>\n",
              "      <td>-73.974</td>\n",
              "      <td>40.752</td>\n",
              "      <td>835.705</td>\n",
              "    </tr>\n",
              "    <tr>\n",
              "      <th>std</th>\n",
              "      <td>0.499</td>\n",
              "      <td>1.314</td>\n",
              "      <td>0.038</td>\n",
              "      <td>0.028</td>\n",
              "      <td>0.035</td>\n",
              "      <td>0.032</td>\n",
              "      <td>656.594</td>\n",
              "    </tr>\n",
              "    <tr>\n",
              "      <th>min</th>\n",
              "      <td>1.000</td>\n",
              "      <td>0.000</td>\n",
              "      <td>-74.255</td>\n",
              "      <td>40.496</td>\n",
              "      <td>-74.255</td>\n",
              "      <td>40.496</td>\n",
              "      <td>1.000</td>\n",
              "    </tr>\n",
              "    <tr>\n",
              "      <th>25%</th>\n",
              "      <td>1.000</td>\n",
              "      <td>1.000</td>\n",
              "      <td>-73.992</td>\n",
              "      <td>40.737</td>\n",
              "      <td>-73.991</td>\n",
              "      <td>40.736</td>\n",
              "      <td>397.000</td>\n",
              "    </tr>\n",
              "    <tr>\n",
              "      <th>50%</th>\n",
              "      <td>2.000</td>\n",
              "      <td>1.000</td>\n",
              "      <td>-73.982</td>\n",
              "      <td>40.754</td>\n",
              "      <td>-73.980</td>\n",
              "      <td>40.755</td>\n",
              "      <td>661.000</td>\n",
              "    </tr>\n",
              "    <tr>\n",
              "      <th>75%</th>\n",
              "      <td>2.000</td>\n",
              "      <td>2.000</td>\n",
              "      <td>-73.967</td>\n",
              "      <td>40.768</td>\n",
              "      <td>-73.963</td>\n",
              "      <td>40.770</td>\n",
              "      <td>1072.000</td>\n",
              "    </tr>\n",
              "    <tr>\n",
              "      <th>max</th>\n",
              "      <td>2.000</td>\n",
              "      <td>9.000</td>\n",
              "      <td>-73.704</td>\n",
              "      <td>40.914</td>\n",
              "      <td>-73.699</td>\n",
              "      <td>40.916</td>\n",
              "      <td>11411.000</td>\n",
              "    </tr>\n",
              "  </tbody>\n",
              "</table>\n",
              "</div>"
            ],
            "text/plain": [
              "        vendor_id  passenger_count  pickup_longitude  pickup_latitude  \\\n",
              "count 1455201.000      1455201.000       1455201.000      1455201.000   \n",
              "mean        1.534            1.664           -73.974           40.751   \n",
              "std         0.499            1.314             0.038            0.028   \n",
              "min         1.000            0.000           -74.255           40.496   \n",
              "25%         1.000            1.000           -73.992           40.737   \n",
              "50%         2.000            1.000           -73.982           40.754   \n",
              "75%         2.000            2.000           -73.967           40.768   \n",
              "max         2.000            9.000           -73.704           40.914   \n",
              "\n",
              "       dropoff_longitude  dropoff_latitude  trip_duration  \n",
              "count        1455201.000       1455201.000    1455201.000  \n",
              "mean             -73.974            40.752        835.705  \n",
              "std                0.035             0.032        656.594  \n",
              "min              -74.255            40.496          1.000  \n",
              "25%              -73.991            40.736        397.000  \n",
              "50%              -73.980            40.755        661.000  \n",
              "75%              -73.963            40.770       1072.000  \n",
              "max              -73.699            40.916      11411.000  "
            ]
          },
          "metadata": {
            "tags": []
          },
          "execution_count": 26
        }
      ]
    },
    {
      "metadata": {
        "id": "CAMwRZMomo9D",
        "colab_type": "code",
        "outputId": "d2593fa5-8091-4631-96ad-6101a5f71885",
        "colab": {
          "base_uri": "https://localhost:8080/",
          "height": 34
        }
      },
      "cell_type": "code",
      "source": [
        "outliers = 1458644-1455201\n",
        "print(outliers)"
      ],
      "execution_count": 0,
      "outputs": [
        {
          "output_type": "stream",
          "text": [
            "3443\n"
          ],
          "name": "stdout"
        }
      ]
    },
    {
      "metadata": {
        "id": "XfKh0DnppR1d",
        "colab_type": "code",
        "outputId": "92d19a78-0981-4cf6-efbf-0dcecc3d2076",
        "colab": {
          "base_uri": "https://localhost:8080/",
          "height": 279
        }
      },
      "cell_type": "code",
      "source": [
        "plt.hist(df_train['trip_duration'].values, bins=100)\n",
        "plt.xlabel('Trip Duration')\n",
        "plt.ylabel('Records')\n",
        "plt.show()\n",
        "#there still might be outliers in trip duration"
      ],
      "execution_count": 0,
      "outputs": [
        {
          "output_type": "display_data",
          "data": {
            "image/png": "[encoded data removed]",
            "text/plain": [
              "<matplotlib.figure.Figure at 0x7fbee0c46160>"
            ]
          },
          "metadata": {
            "tags": []
          }
        }
      ]
    },
    {
      "metadata": {
        "id": "IKAe84EC172o",
        "colab_type": "code",
        "outputId": "f4fe8043-7a1d-4c2a-bc49-55c881f2f24b",
        "colab": {
          "base_uri": "https://localhost:8080/",
          "height": 296
        }
      },
      "cell_type": "code",
      "source": [
        "df_train['log_trip_duration'] = np.log(df_train['trip_duration'].values + 1)\n",
        "plt.hist(df_train['log_trip_duration'].values, bins=100)\n",
        "plt.xlabel('Log of trip duration')\n",
        "plt.ylabel('Number of trainging records')\n",
        "plt.show\n"
      ],
      "execution_count": 0,
      "outputs": [
        {
          "output_type": "execute_result",
          "data": {
            "text/plain": [
              "<function matplotlib.pyplot.show>"
            ]
          },
          "metadata": {
            "tags": []
          },
          "execution_count": 29
        },
        {
          "output_type": "display_data",
          "data": {
            "image/png": "[encoded data removed]",
            "text/plain": [
              "<matplotlib.figure.Figure at 0x7fbee4187f60>"
            ]
          },
          "metadata": {
            "tags": []
          }
        }
      ]
    },
    {
      "metadata": {
        "id": "nsRkHzR27Ctn",
        "colab_type": "code",
        "outputId": "9ebdc2ca-3750-4d15-b6e2-f7985c364340",
        "colab": {
          "base_uri": "https://localhost:8080/",
          "height": 308
        }
      },
      "cell_type": "code",
      "source": [
        "# creating variables to be used in plot\n",
        "N=10000 #allows you to change data points in plot\n",
        "graph_long_border = (-74.10,-73.75)# changes plot zoom and center\n",
        "graph_lat_border = (40.63,40.85)# changes plot zoom and center\n",
        "\n",
        "fig, ax = plt.subplots(ncols=2, sharex=True, sharey=True)\n",
        "ax[0].scatter(df_train['pickup_longitude'].values[:N], \n",
        "              df_train['pickup_latitude'].values[:N],\n",
        "              color='blue', s=1, label='Train',alpha=0.1)\n",
        "ax[1].scatter(df_test['pickup_longitude'].values[:N], \n",
        "              df_test['pickup_latitude'].values[:N],\n",
        "              color='red', s=1, label='Test',alpha=0.1)\n",
        "#optional\n",
        "plt.ylim(graph_lat_border)   #sets plot y limit\n",
        "plt.xlim(graph_long_border) #sets plot x limit\n",
        "fig.suptitle('Train and test scatter')  # adds title in center\n",
        "ax[0].legend()#loc=0,loc=1,ect. to change the legend location\n",
        "ax[1].legend()\n",
        "ax[0].set_ylabel('latitude') #plot 1 y axis label\n",
        "ax[0].set_xlabel('longitude')#plot 1 x axis label\n",
        "ax[1].set_xlabel('longitude')#plot 2 x axis label\n",
        "\n",
        "plt.ylim(graph_lat_border)\n",
        "plt.xlim(graph_long_border)\n",
        "plt.show()\n"
      ],
      "execution_count": 0,
      "outputs": [
        {
          "output_type": "display_data",
          "data": {
            "image/png": "[encoded data removed]",
            "text/plain": [
              "<matplotlib.figure.Figure at 0x7fbee43b35c0>"
            ]
          },
          "metadata": {
            "tags": []
          }
        }
      ]
    },
    {
      "metadata": {
        "id": "JK1nn7B2K-Mo",
        "colab_type": "code",
        "outputId": "7faed5e5-70b4-4731-bb84-afb36cc41713",
        "colab": {
          "base_uri": "https://localhost:8080/",
          "height": 34
        }
      },
      "cell_type": "code",
      "source": [
        "\n",
        "!kaggle datasets download -d mathijs/weather-data-in-new-york-city-2016 -p drive/kaggle/taxi\n",
        "#this download two files, weather-data-in-new-york-city-2016.zip, weather_data_nyc_centralpark_2016(1).csv"
      ],
      "execution_count": 0,
      "outputs": [
        {
          "output_type": "stream",
          "text": [
            "weather-data-in-new-york-city-2016.zip: Skipping, found more recently modified local copy (use --force to force download)\r\n"
          ],
          "name": "stdout"
        }
      ]
    },
    {
      "metadata": {
        "id": "H6woCRJFKwZo",
        "colab_type": "code",
        "outputId": "30d87452-53e8-416b-935a-76ae4e8b3ed3",
        "colab": {
          "base_uri": "https://localhost:8080/",
          "height": 134
        }
      },
      "cell_type": "code",
      "source": [
        "ls drive/kaggle/taxi"
      ],
      "execution_count": 0,
      "outputs": [
        {
          "output_type": "stream",
          "text": [
            "accidents_2016.csv               test.csv\r\n",
            "fastest_routes_test.csv          test.zip\r\n",
            "fastest_routes_train_part_1.csv  TPOT.ipynb\r\n",
            "fastest_routes_train_part_2.csv  train.csv\r\n",
            "sample_submission.zip            train.zip\r\n",
            "second_fastest_routes_test.csv   weather-data-in-new-york-city-2016.zip\r\n",
            "second_fastest_routes_train.csv  weather_data_nyc_centralpark_2016(1).csv\r\n"
          ],
          "name": "stdout"
        }
      ]
    },
    {
      "metadata": {
        "id": "GKCj3JhhGR0_",
        "colab_type": "code",
        "colab": {}
      },
      "cell_type": "code",
      "source": [
        "wdf = pd.read_csv('drive/kaggle/taxi/weather_data_nyc_centralpark_2016(1).csv')"
      ],
      "execution_count": 0,
      "outputs": []
    },
    {
      "metadata": {
        "id": "hUb4BaaZsTWs",
        "colab_type": "code",
        "outputId": "bd955648-6e2b-4e49-f1e5-d3214a14219a",
        "colab": {
          "base_uri": "https://localhost:8080/",
          "height": 280
        }
      },
      "cell_type": "code",
      "source": [
        "plt.plot(df_train.groupby('pickup_date').count()[['id']], 'o-', label='train')\n",
        "plt.plot(df_test.groupby('pickup_date').count()[['id']], 'o-', label='test')\n",
        "plt.title('Trips over Time.')\n",
        "plt.legend(loc=0)\n",
        "plt.ylabel('Trips')\n",
        "plt.show()"
      ],
      "execution_count": 0,
      "outputs": [
        {
          "output_type": "display_data",
          "data": {
            "image/png": "[encoded data removed]",
            "text/plain": [
              "<matplotlib.figure.Figure at 0x7fbee8c2c9b0>"
            ]
          },
          "metadata": {
            "tags": []
          }
        }
      ]
    },
    {
      "metadata": {
        "id": "pjQoIpBHsaaH",
        "colab_type": "code",
        "outputId": "0fb2e1e9-dfe1-4ff6-b5f2-071c1797e445",
        "colab": {
          "base_uri": "https://localhost:8080/",
          "height": 654
        }
      },
      "cell_type": "code",
      "source": [
        "import warnings\n",
        "warnings.filterwarnings(\"ignore\")\n",
        "plot_vendor = df_train.groupby('vendor_id')['trip_duration'].mean()\n",
        "plt.subplots(1,1,figsize=(17,10))\n",
        "plt.ylim(ymin=800)\n",
        "plt.ylim(ymax=840)\n",
        "sns.barplot(plot_vendor.index,plot_vendor.values)\n",
        "plt.title('Time per Vendor')\n",
        "plt.legend(loc=0)\n",
        "plt.ylabel('Time in Seconds')"
      ],
      "execution_count": 0,
      "outputs": [
        {
          "output_type": "stream",
          "text": [
            "No handles with labels found to put in legend.\n"
          ],
          "name": "stderr"
        },
        {
          "output_type": "execute_result",
          "data": {
            "text/plain": [
              "Text(0,0.5,'Time in Seconds')"
            ]
          },
          "metadata": {
            "tags": []
          },
          "execution_count": 35
        },
        {
          "output_type": "display_data",
          "data": {
            "image/png": "[encoded data removed]",
            "text/plain": [
              "<matplotlib.figure.Figure at 0x7fbee8bfcfd0>"
            ]
          },
          "metadata": {
            "tags": []
          }
        }
      ]
    },
    {
      "metadata": {
        "id": "hcJKezyyslPG",
        "colab_type": "code",
        "outputId": "d64f2a36-0ba8-450c-e967-91dfefd1b2b3",
        "colab": {
          "base_uri": "https://localhost:8080/",
          "height": 654
        }
      },
      "cell_type": "code",
      "source": [
        "snwflag = df_train.groupby('store_and_fwd_flag')['trip_duration'].mean()#might want to change to bool\n",
        "\n",
        "plt.subplots(1,1,figsize=(17,10))\n",
        "plt.ylim(ymin=0)\n",
        "plt.ylim(ymax=1100)\n",
        "plt.title('Time per store_and_fwd_flag')\n",
        "plt.legend(loc=0)\n",
        "plt.ylabel('Time in Seconds')\n",
        "sns.barplot(snwflag.index,snwflag.values)"
      ],
      "execution_count": 0,
      "outputs": [
        {
          "output_type": "stream",
          "text": [
            "No handles with labels found to put in legend.\n"
          ],
          "name": "stderr"
        },
        {
          "output_type": "execute_result",
          "data": {
            "text/plain": [
              "<matplotlib.axes._subplots.AxesSubplot at 0x7fbee8a96518>"
            ]
          },
          "metadata": {
            "tags": []
          },
          "execution_count": 41
        },
        {
          "output_type": "display_data",
          "data": {
            "image/png": "[encoded data removed]",
            "text/plain": [
              "<matplotlib.figure.Figure at 0x7fbee8b00278>"
            ]
          },
          "metadata": {
            "tags": []
          }
        }
      ]
    },
    {
      "metadata": {
        "id": "xYaQK92Ssrv3",
        "colab_type": "code",
        "outputId": "14fa5a8c-e2d8-4a22-e285-c49ac118ca7d",
        "colab": {
          "base_uri": "https://localhost:8080/",
          "height": 654
        }
      },
      "cell_type": "code",
      "source": [
        "pc = df_train.groupby('passenger_count')['trip_duration'].mean()\n",
        "\n",
        "plt.subplots(1,1,figsize=(17,10))\n",
        "plt.ylim(ymin=0)\n",
        "plt.ylim(ymax=1100)\n",
        "plt.title('Time per store_and_fwd_flag')\n",
        "plt.legend(loc=0)\n",
        "plt.ylabel('Time in Seconds')\n",
        "sns.barplot(pc.index,pc.values)"
      ],
      "execution_count": 0,
      "outputs": [
        {
          "output_type": "stream",
          "text": [
            "No handles with labels found to put in legend.\n"
          ],
          "name": "stderr"
        },
        {
          "output_type": "execute_result",
          "data": {
            "text/plain": [
              "<matplotlib.axes._subplots.AxesSubplot at 0x7fbee8a8e550>"
            ]
          },
          "metadata": {
            "tags": []
          },
          "execution_count": 43
        },
        {
          "output_type": "display_data",
          "data": {
            "image/png": "[encoded data removed]",
            "text/plain": [
              "<matplotlib.figure.Figure at 0x7fbee8a059e8>"
            ]
          },
          "metadata": {
            "tags": []
          }
        }
      ]
    },
    {
      "metadata": {
        "id": "TnQQEL6-swdO",
        "colab_type": "code",
        "outputId": "6dda0f40-dcd0-4e0d-a210-0faa8b9fd7fe",
        "colab": {
          "base_uri": "https://localhost:8080/",
          "height": 218
        }
      },
      "cell_type": "code",
      "source": [
        "df_train.groupby('passenger_count').size()"
      ],
      "execution_count": 0,
      "outputs": [
        {
          "output_type": "execute_result",
          "data": {
            "text/plain": [
              "passenger_count\n",
              "0         59\n",
              "1    1031272\n",
              "2     209817\n",
              "3      59729\n",
              "4      28317\n",
              "5      77826\n",
              "6      48177\n",
              "7          2\n",
              "8          1\n",
              "9          1\n",
              "dtype: int64"
            ]
          },
          "metadata": {
            "tags": []
          },
          "execution_count": 45
        }
      ]
    },
    {
      "metadata": {
        "id": "X26TBItos0tM",
        "colab_type": "code",
        "outputId": "21dcf09a-1311-49db-b826-ecf3604fcd01",
        "colab": {
          "base_uri": "https://localhost:8080/",
          "height": 185
        }
      },
      "cell_type": "code",
      "source": [
        "df_test.groupby('passenger_count').size()"
      ],
      "execution_count": 0,
      "outputs": [
        {
          "output_type": "execute_result",
          "data": {
            "text/plain": [
              "passenger_count\n",
              "0        23\n",
              "1    443447\n",
              "2     90027\n",
              "3     25686\n",
              "4     12017\n",
              "5     33411\n",
              "6     20521\n",
              "9         2\n",
              "dtype: int64"
            ]
          },
          "metadata": {
            "tags": []
          },
          "execution_count": 47
        }
      ]
    },
    {
      "metadata": {
        "id": "KrVt60PDs887",
        "colab_type": "code",
        "outputId": "09fc5391-d2da-458b-d6e8-e9f09493b887",
        "colab": {
          "base_uri": "https://localhost:8080/",
          "height": 308
        }
      },
      "cell_type": "code",
      "source": [
        "city_long_border = (-74.03, -73.75)\n",
        "city_lat_border = (40.63, 40.85)\n",
        "fig, ax = plt.subplots(ncols=2, sharex=True, sharey=True)\n",
        "ax[0].scatter(df_train['pickup_longitude'].values[:100000], df_train['pickup_latitude'].values[:100000],\n",
        "              color='blue', s=1, label='train', alpha=0.1)\n",
        "ax[1].scatter(df_test['pickup_longitude'].values[:100000], df_test['pickup_latitude'].values[:100000],\n",
        "              color='green', s=1, label='test', alpha=0.1)\n",
        "fig.suptitle('Train and test area complete overlap.')\n",
        "ax[0].legend(loc=0)\n",
        "ax[0].set_ylabel('latitude')\n",
        "ax[0].set_xlabel('longitude')\n",
        "ax[1].set_xlabel('longitude')\n",
        "ax[1].legend(loc=0)\n",
        "plt.ylim(city_lat_border)\n",
        "plt.xlim(city_long_border)\n",
        "plt.show()\n",
        "\n",
        "\n"
      ],
      "execution_count": 0,
      "outputs": [
        {
          "output_type": "display_data",
          "data": {
            "image/png": "[encoded data removed]",
            "text/plain": [
              "<matplotlib.figure.Figure at 0x7fbee890beb8>"
            ]
          },
          "metadata": {
            "tags": []
          }
        }
      ]
    },
    {
      "metadata": {
        "id": "EH10XaEJtQp0",
        "colab_type": "code",
        "colab": {}
      },
      "cell_type": "code",
      "source": [
        "def haversine_array(lat1, lng1, lat2, lng2):\n",
        "    lat1, lng1, lat2, lng2 = map(np.radians, (lat1, lng1, lat2, lng2))\n",
        "    AVG_EARTH_RADIUS = 6371  # in km\n",
        "    lat = lat2 - lat1\n",
        "    lng = lng2 - lng1\n",
        "    d = np.sin(lat * 0.5) ** 2 + np.cos(lat1) * np.cos(lat2) * np.sin(lng * 0.5) ** 2\n",
        "    h = 2 * AVG_EARTH_RADIUS * np.arcsin(np.sqrt(d))\n",
        "    return h\n",
        "\n",
        "def dummy_manhattan_distance(lat1, lng1, lat2, lng2):\n",
        "    a = haversine_array(lat1, lng1, lat1, lng2)\n",
        "    b = haversine_array(lat1, lng1, lat2, lng1)\n",
        "    return a + b\n",
        "\n",
        "def bearing_array(lat1, lng1, lat2, lng2):\n",
        "    AVG_EARTH_RADIUS = 6371  # in km\n",
        "    lng_delta_rad = np.radians(lng2 - lng1)\n",
        "    lat1, lng1, lat2, lng2 = map(np.radians, (lat1, lng1, lat2, lng2))\n",
        "    y = np.sin(lng_delta_rad) * np.cos(lat2)\n",
        "    x = np.cos(lat1) * np.sin(lat2) - np.sin(lat1) * np.cos(lat2) * np.cos(lng_delta_rad)\n",
        "    return np.degrees(np.arctan2(y, x))"
      ],
      "execution_count": 0,
      "outputs": []
    },
    {
      "metadata": {
        "id": "a7tEaB_6tVW6",
        "colab_type": "text"
      },
      "cell_type": "markdown",
      "source": [
        "applying these functions to both the test and train data, we can calculate the haversine distance which is the great-circle distance between two points on a sphere given their longitudes and latitudes. We can then calculate the summed distance traveled in Manhattan. And finally we calculate (through some handy trigonometry) the direction (or bearing) of the distance traveled. These calculations are stored as variables in the separate data sets. The next step I decided to take is to create neighourhods, like Soho, or the Upper East Side, from the data and display this."
      ]
    },
    {
      "metadata": {
        "id": "iqE1BsWEtZuH",
        "colab_type": "code",
        "colab": {}
      },
      "cell_type": "code",
      "source": [
        "df_train.loc[:, 'distance_haversine'] = haversine_array(df_train['pickup_latitude'].values, df_train['pickup_longitude'].values, df_train['dropoff_latitude'].values, df_train['dropoff_longitude'].values)\n",
        "df_test.loc[:, 'distance_haversine'] = haversine_array(df_test['pickup_latitude'].values, df_test['pickup_longitude'].values, df_test['dropoff_latitude'].values, df_test['dropoff_longitude'].values)    \n",
        "    \n",
        "df_train.loc[:, 'distance_dummy_manhattan'] =  dummy_manhattan_distance(df_train['pickup_latitude'].values, df_train['pickup_longitude'].values, df_train['dropoff_latitude'].values,df_train['dropoff_longitude'].values)\n",
        "df_test.loc[:, 'distance_dummy_manhattan'] =  dummy_manhattan_distance(df_test['pickup_latitude'].values, df_test['pickup_longitude'].values, df_test['dropoff_latitude'].values, df_test['dropoff_longitude'].values)\n",
        "\n",
        "df_train.loc[:, 'direction'] = bearing_array(df_train['pickup_latitude'].values, df_train['pickup_longitude'].values, df_train['dropoff_latitude'].values, df_train['dropoff_longitude'].values)\n",
        "df_test.loc[:, 'direction'] = bearing_array(df_test['pickup_latitude'].values, df_test['pickup_longitude'].values, df_test['dropoff_latitude'].values, df_test['dropoff_longitude'].values)"
      ],
      "execution_count": 0,
      "outputs": []
    },
    {
      "metadata": {
        "id": "CyMjzwJptmMc",
        "colab_type": "text"
      },
      "cell_type": "markdown",
      "source": [
        "3.3.3 Lets create the \"Neighborhoods\"\n",
        "\n",
        "One might think it necessary to have a map handy to do this, but not really. This will intuitively work as KMeans will cluster the data points into their own neighborhoods. This is pretty straight forward since Numpy helps create a vertically stacked array of the pickup and dropoff coordinates, and using `sklearn`'s MiniBatchKMeans module it's easy to set up the parameters to create the clusters.\n",
        "\n",
        "There are three steps to preparing the data: create the coordinates stack, configure the KMeans clustering parameters, and create the actual clusters:"
      ]
    },
    {
      "metadata": {
        "id": "8XL_ROlLtq7h",
        "colab_type": "code",
        "colab": {}
      },
      "cell_type": "code",
      "source": [
        "from sklearn.cluster import MiniBatchKMeans\n",
        "\n",
        "coords = np.vstack((df_train[['pickup_latitude', 'pickup_longitude']].values,\n",
        "                    df_train[['dropoff_latitude', 'dropoff_longitude']].values))\n",
        "sample_ind = np.random.permutation(len(coords))[:500000]\n",
        "\n",
        "kmeans = MiniBatchKMeans(n_clusters=100, batch_size=10000).fit(coords[sample_ind])\n",
        "df_train.loc[:, 'pickup_cluster'] = kmeans.predict(df_train[['pickup_latitude', 'pickup_longitude']])\n",
        "df_train.loc[:, 'dropoff_cluster'] = kmeans.predict(df_train[['dropoff_latitude', 'dropoff_longitude']])\n",
        "df_test.loc[:, 'pickup_cluster'] = kmeans.predict(df_test[['pickup_latitude', 'pickup_longitude']])\n",
        "df_test.loc[:, 'dropoff_cluster'] = kmeans.predict(df_test[['dropoff_latitude', 'dropoff_longitude']])"
      ],
      "execution_count": 0,
      "outputs": []
    },
    {
      "metadata": {
        "id": "HgC9Rnsyt3Gl",
        "colab_type": "code",
        "outputId": "b30ff576-543b-4328-b067-f3cf9febe88c",
        "colab": {
          "base_uri": "https://localhost:8080/",
          "height": 283
        }
      },
      "cell_type": "code",
      "source": [
        "fig, ax = plt.subplots(ncols=1, nrows=1)\n",
        "ax.scatter(df_train.pickup_longitude.values[:500000], df_train.pickup_latitude.values[:500000], s=10, lw=0,\n",
        "           c=df_train.pickup_cluster[:500000].values, cmap='autumn', alpha=0.2)\n",
        "ax.set_xlim(graph_long_border)\n",
        "ax.set_ylim(graph_lat_border)\n",
        "ax.set_xlabel('Longitude')\n",
        "ax.set_ylabel('Latitude')\n",
        "plt.show()"
      ],
      "execution_count": 0,
      "outputs": [
        {
          "output_type": "display_data",
          "data": {
            "image/png": "[encoded data removed]",
            "text/plain": [
              "<matplotlib.figure.Figure at 0x7fbee7f80d30>"
            ]
          },
          "metadata": {
            "tags": []
          }
        }
      ]
    },
    {
      "metadata": {
        "id": "sjDQxn92uUOc",
        "colab_type": "code",
        "colab": {}
      },
      "cell_type": "code",
      "source": [
        "#Extracting Month\n",
        "train['Month'] = train['pickup_datetime'].dt.month\n",
        "test['Month'] = test['pickup_datetime'].dt.month"
      ],
      "execution_count": 0,
      "outputs": []
    },
    {
      "metadata": {
        "id": "h8HhGjnvuZFT",
        "colab_type": "code",
        "colab": {}
      },
      "cell_type": "code",
      "source": [
        "train.groupby('Month').size(),test.groupby('Month').size()"
      ],
      "execution_count": 0,
      "outputs": []
    },
    {
      "metadata": {
        "id": "bSz0sniSubh8",
        "colab_type": "code",
        "colab": {}
      },
      "cell_type": "code",
      "source": [
        "train['DayofMonth'] = train['pickup_datetime'].dt.day\n",
        "test['DayofMonth'] = test['pickup_datetime'].dt.day\n",
        "len(train.groupby('DayofMonth').size()),len(test.groupby('DayofMonth').size())"
      ],
      "execution_count": 0,
      "outputs": []
    },
    {
      "metadata": {
        "id": "mYw4sTFQuevT",
        "colab_type": "code",
        "colab": {}
      },
      "cell_type": "code",
      "source": [
        "train['Hour'] = train['pickup_datetime'].dt.hour\n",
        "test['Hour'] = test['pickup_datetime'].dt.hour\n",
        "len(train.groupby('Hour').size()),len(test.groupby('Hour').size())"
      ],
      "execution_count": 0,
      "outputs": []
    },
    {
      "metadata": {
        "id": "aEKjKOZYuinM",
        "colab_type": "code",
        "colab": {}
      },
      "cell_type": "code",
      "source": [
        "train['dayofweek'] = train['pickup_datetime'].dt.dayofweek\n",
        "test['dayofweek'] = test['pickup_datetime'].dt.dayofweek\n",
        "len(train.groupby('dayofweek').size()),len(test.groupby('dayofweek').size())"
      ],
      "execution_count": 0,
      "outputs": []
    },
    {
      "metadata": {
        "id": "UPWluDB5unXE",
        "colab_type": "code",
        "colab": {}
      },
      "cell_type": "code",
      "source": [
        "train.loc[:, 'avg_speed_h'] = 1000 * train['distance_haversine'] / train['trip_duration']\n",
        "train.loc[:, 'avg_speed_m'] = 1000 * train['distance_dummy_manhattan'] / train['trip_duration']\n",
        "fig, ax = plt.subplots(ncols=3, sharey=True)\n",
        "ax[0].plot(train.groupby('Hour').mean()['avg_speed_h'], 'bo-', lw=2, alpha=0.7)\n",
        "ax[1].plot(train.groupby('dayofweek').mean()['avg_speed_h'], 'go-', lw=2, alpha=0.7)\n",
        "ax[2].plot(train.groupby('Month').mean()['avg_speed_h'], 'ro-', lw=2, alpha=0.7)\n",
        "ax[0].set_xlabel('Hour of Day')\n",
        "ax[1].set_xlabel('Day of Week')\n",
        "ax[2].set_xlabel('Month of Year')\n",
        "ax[0].set_ylabel('Average Speed')\n",
        "fig.suptitle('Average Traffic Speed by Date-part')\n",
        "plt.show()"
      ],
      "execution_count": 0,
      "outputs": []
    },
    {
      "metadata": {
        "id": "PLDHqEpEust5",
        "colab_type": "code",
        "colab": {}
      },
      "cell_type": "code",
      "source": [
        "train.loc[:, 'pickup_lat_bin'] = np.round(train['pickup_latitude'], 3)\n",
        "train.loc[:, 'pickup_long_bin'] = np.round(train['pickup_longitude'], 3)\n",
        "# Average speed for regions\n",
        "gby_cols = ['pickup_lat_bin', 'pickup_long_bin']\n",
        "coord_speed = train.groupby(gby_cols).mean()[['avg_speed_h']].reset_index()\n",
        "coord_count = train.groupby(gby_cols).count()[['id']].reset_index()\n",
        "coord_stats = pd.merge(coord_speed, coord_count, on=gby_cols)\n",
        "coord_stats = coord_stats[coord_stats['id'] > 100]\n",
        "fig, ax = plt.subplots(ncols=1, nrows=1)\n",
        "ax.scatter(train.pickup_longitude.values[:500000], train.pickup_latitude.values[:500000], color='black', s=1, alpha=0.5)\n",
        "ax.scatter(coord_stats.pickup_long_bin.values, coord_stats.pickup_lat_bin.values, c=coord_stats.avg_speed_h.values,\n",
        "           cmap='RdYlGn', s=20, alpha=0.5, vmin=1, vmax=8)\n",
        "ax.set_xlim(city_long_border)\n",
        "ax.set_ylim(city_lat_border)\n",
        "ax.set_xlabel('Longitude')\n",
        "ax.set_ylabel('Latitude')\n",
        "plt.title('Average speed')\n",
        "plt.show()"
      ],
      "execution_count": 0,
      "outputs": []
    },
    {
      "metadata": {
        "id": "v4goYXBCu-KV",
        "colab_type": "text"
      },
      "cell_type": "markdown",
      "source": [
        "For this particular problem we can add OSRM ([Open Source Routing Machine](http://project-osrm.org/ \"OSRM\")) features. Ultimately this is a data set containing the fastest routes from specific starting points in NY."
      ]
    },
    {
      "metadata": {
        "id": "HKpqmlmYvBR_",
        "colab_type": "code",
        "colab": {}
      },
      "cell_type": "code",
      "source": [
        "fr1 = pd.read_csv('../input/new-york-city-taxi-with-osrm/fastest_routes_train_part_1.csv', usecols=['id', 'total_distance', 'total_travel_time',  'number_of_steps'])\n",
        "fr2 = pd.read_csv('../input/new-york-city-taxi-with-osrm/fastest_routes_train_part_2.csv', usecols=['id', 'total_distance', 'total_travel_time', 'number_of_steps'])\n",
        "test_street_info = pd.read_csv('../input/new-york-city-taxi-with-osrm/fastest_routes_test.csv',\n",
        "                               usecols=['id', 'total_distance', 'total_travel_time', 'number_of_steps'])\n",
        "train_street_info = pd.concat((fr1, fr2))\n",
        "train = train.merge(train_street_info, how='left', on='id')\n",
        "test = test.merge(test_street_info, how='left', on='id')"
      ],
      "execution_count": 0,
      "outputs": []
    },
    {
      "metadata": {
        "id": "RRUU_5CZvLJe",
        "colab_type": "code",
        "colab": {}
      },
      "cell_type": "code",
      "source": [
        "train.shape, test.shape"
      ],
      "execution_count": 0,
      "outputs": []
    },
    {
      "metadata": {
        "id": "p1Qw1AvCvXcR",
        "colab_type": "code",
        "colab": {}
      },
      "cell_type": "code",
      "source": [
        "#creating dummy variables \n",
        "vendor_train = pd.get_dummies(train['vendor_id'], prefix='vi', prefix_sep='_')\n",
        "vendor_test = pd.get_dummies(test['vendor_id'], prefix='vi', prefix_sep='_')\n",
        "passenger_count_train = pd.get_dummies(train['passenger_count'], prefix='pc', prefix_sep='_')\n",
        "passenger_count_test = pd.get_dummies(test['passenger_count'], prefix='pc', prefix_sep='_')\n",
        "store_and_fwd_flag_train = pd.get_dummies(train['store_and_fwd_flag'], prefix='sf', prefix_sep='_')\n",
        "store_and_fwd_flag_test = pd.get_dummies(test['store_and_fwd_flag'], prefix='sf', prefix_sep='_')\n",
        "cluster_pickup_train = pd.get_dummies(train['pickup_cluster'], prefix='p', prefix_sep='_')\n",
        "cluster_pickup_test = pd.get_dummies(test['pickup_cluster'], prefix='p', prefix_sep='_')\n",
        "cluster_dropoff_train = pd.get_dummies(train['dropoff_cluster'], prefix='d', prefix_sep='_')\n",
        "cluster_dropoff_test = pd.get_dummies(test['dropoff_cluster'], prefix='d', prefix_sep='_')\n",
        "\n",
        "month_train = pd.get_dummies(train['Month'], prefix='m', prefix_sep='_')\n",
        "month_test = pd.get_dummies(test['Month'], prefix='m', prefix_sep='_')\n",
        "dom_train = pd.get_dummies(train['DayofMonth'], prefix='dom', prefix_sep='_')\n",
        "dom_test = pd.get_dummies(test['DayofMonth'], prefix='dom', prefix_sep='_')\n",
        "hour_train = pd.get_dummies(train['Hour'], prefix='h', prefix_sep='_')\n",
        "hour_test = pd.get_dummies(test['Hour'], prefix='h', prefix_sep='_')\n",
        "dow_train = pd.get_dummies(train['dayofweek'], prefix='dow', prefix_sep='_')\n",
        "dow_test = pd.get_dummies(test['dayofweek'], prefix='dow', prefix_sep='_')"
      ],
      "execution_count": 0,
      "outputs": []
    },
    {
      "metadata": {
        "id": "UnKGntbbvg_L",
        "colab_type": "code",
        "colab": {}
      },
      "cell_type": "code",
      "source": [
        "vendor_train.shape,vendor_test.shape"
      ],
      "execution_count": 0,
      "outputs": []
    },
    {
      "metadata": {
        "id": "ogk7xwNEvjjz",
        "colab_type": "code",
        "colab": {}
      },
      "cell_type": "code",
      "source": [
        "passenger_count_train.shape,passenger_count_test.shape"
      ],
      "execution_count": 0,
      "outputs": []
    },
    {
      "metadata": {
        "id": "bHOKzMI6vmLr",
        "colab_type": "code",
        "colab": {}
      },
      "cell_type": "code",
      "source": [
        "store_and_fwd_flag_train.shape,store_and_fwd_flag_test.shape"
      ],
      "execution_count": 0,
      "outputs": []
    },
    {
      "metadata": {
        "id": "cP4xbu-Svnqw",
        "colab_type": "code",
        "colab": {}
      },
      "cell_type": "code",
      "source": [
        "cluster_pickup_train.shape,cluster_pickup_test.shape"
      ],
      "execution_count": 0,
      "outputs": []
    },
    {
      "metadata": {
        "id": "7O-FWyYZvsEo",
        "colab_type": "code",
        "colab": {}
      },
      "cell_type": "code",
      "source": [
        "cluster_dropoff_train.shape,cluster_dropoff_test.shape"
      ],
      "execution_count": 0,
      "outputs": []
    },
    {
      "metadata": {
        "id": "BS0chRYpvulT",
        "colab_type": "code",
        "colab": {}
      },
      "cell_type": "code",
      "source": [
        "month_train.shape,month_test.shape"
      ],
      "execution_count": 0,
      "outputs": []
    },
    {
      "metadata": {
        "id": "MmT9a9aQvwzR",
        "colab_type": "code",
        "colab": {}
      },
      "cell_type": "code",
      "source": [
        "dom_train.shape,dom_test.shape"
      ],
      "execution_count": 0,
      "outputs": []
    },
    {
      "metadata": {
        "id": "az6an8j-vzHl",
        "colab_type": "code",
        "colab": {}
      },
      "cell_type": "code",
      "source": [
        "hour_train.shape,hour_test.shape"
      ],
      "execution_count": 0,
      "outputs": []
    },
    {
      "metadata": {
        "id": "KvE-hw1cv19G",
        "colab_type": "code",
        "colab": {}
      },
      "cell_type": "code",
      "source": [
        "dow_train.shape,dow_test.shape"
      ],
      "execution_count": 0,
      "outputs": []
    },
    {
      "metadata": {
        "id": "J31ZdRg-v7-H",
        "colab_type": "code",
        "colab": {}
      },
      "cell_type": "code",
      "source": [
        "passenger_count_test = passenger_count_test.drop('pc_9', axis = 1)"
      ],
      "execution_count": 0,
      "outputs": []
    },
    {
      "metadata": {
        "id": "1r3PYLGlwEfn",
        "colab_type": "text"
      },
      "cell_type": "markdown",
      "source": [
        "And it would seem we've finally reached the end of what is easily considered the most difficult part of data science: cleaning and wrangling the data into a usable format/structure. The last part before we actually start training the model is to drop the categorical variables (since we replaced these with our indicator variables in the previous step) and compile the final version of our test and train sets."
      ]
    },
    {
      "metadata": {
        "id": "zf_aCxu-wIhS",
        "colab_type": "code",
        "colab": {}
      },
      "cell_type": "code",
      "source": [
        "train = train.drop(['id','vendor_id','passenger_count','store_and_fwd_flag','Month','DayofMonth','Hour','dayofweek',\n",
        "                   'pickup_longitude','pickup_latitude','dropoff_longitude','dropoff_latitude'],axis = 1)\n",
        "Test_id = test['id']\n",
        "test = test.drop(['id','vendor_id','passenger_count','store_and_fwd_flag','Month','DayofMonth','Hour','dayofweek',\n",
        "                   'pickup_longitude','pickup_latitude','dropoff_longitude','dropoff_latitude'], axis = 1)\n",
        "\n",
        "train = train.drop(['dropoff_datetime','avg_speed_h','avg_speed_m','pickup_lat_bin','pickup_long_bin','trip_duration'], axis = 1)"
      ],
      "execution_count": 0,
      "outputs": []
    },
    {
      "metadata": {
        "id": "K9AiBGshwNUX",
        "colab_type": "code",
        "colab": {}
      },
      "cell_type": "code",
      "source": [
        "train.shape,test.shape"
      ],
      "execution_count": 0,
      "outputs": []
    },
    {
      "metadata": {
        "id": "JvPSm2uEwRHR",
        "colab_type": "code",
        "colab": {}
      },
      "cell_type": "code",
      "source": [
        "#add indicator values\n",
        "Train_Master = pd.concat([train,\n",
        "                          vendor_train,\n",
        "                          passenger_count_train,\n",
        "                          store_and_fwd_flag_train,\n",
        "                          cluster_pickup_train,\n",
        "                          cluster_dropoff_train,\n",
        "                         month_train,\n",
        "                         dom_train,\n",
        "                          hour_test,\n",
        "                          dow_train\n",
        "                         ], axis=1)"
      ],
      "execution_count": 0,
      "outputs": []
    },
    {
      "metadata": {
        "id": "xQIlFxFJwZoG",
        "colab_type": "code",
        "colab": {}
      },
      "cell_type": "code",
      "source": [
        "Test_master = pd.concat([test, \n",
        "                         vendor_test,\n",
        "                         passenger_count_test,\n",
        "                         store_and_fwd_flag_test,\n",
        "                         cluster_pickup_test,\n",
        "                         cluster_dropoff_test,\n",
        "                         month_test,\n",
        "                         dom_test,\n",
        "                          hour_test,\n",
        "                          dow_test], axis=1)"
      ],
      "execution_count": 0,
      "outputs": []
    },
    {
      "metadata": {
        "id": "X5d9o81pwb6s",
        "colab_type": "code",
        "colab": {}
      },
      "cell_type": "code",
      "source": [
        "Train_Master.shape,Test_master.shape"
      ],
      "execution_count": 0,
      "outputs": []
    },
    {
      "metadata": {
        "id": "HxRuHpWuwifr",
        "colab_type": "code",
        "colab": {}
      },
      "cell_type": "code",
      "source": [
        "#info already included in other varables, so get rid of them\n",
        "Train_Master = Train_Master.drop(['pickup_datetime','pickup_date'],axis = 1)\n",
        "Test_master = Test_master.drop(['pickup_datetime','pickup_date'],axis = 1)"
      ],
      "execution_count": 0,
      "outputs": []
    },
    {
      "metadata": {
        "id": "in5_q43TwuBp",
        "colab_type": "code",
        "colab": {}
      },
      "cell_type": "code",
      "source": [
        "Train_Master.shape,Test_master.shape"
      ],
      "execution_count": 0,
      "outputs": []
    },
    {
      "metadata": {
        "id": "zPXDB3l4w2oD",
        "colab_type": "text"
      },
      "cell_type": "markdown",
      "source": [
        "For the sake of this tutorial we'll stick to 100 000 data points, this just makes the training process faster and a little less cumbersome to work with. Also, we'll split the training set into a 80-20 train and test set. So from this, there are two things you can do: change the ratios by which you split the original training set (`Train_Master`), e.g. use a 70-30 ratio and see what the results are. Also, you can include all the data points instead of just 100k. This should also have quite a siginficant effect on the outcome.\n",
        "\n",
        "\n",
        "So the split would look something like this:"
      ]
    },
    {
      "metadata": {
        "id": "3Djgw5u7w7LZ",
        "colab_type": "code",
        "colab": {}
      },
      "cell_type": "code",
      "source": [
        "Train, Test = train_test_split(Train_Master[0:100000], test_size = 0.2)"
      ],
      "execution_count": 0,
      "outputs": []
    },
    {
      "metadata": {
        "id": "J8Ivlb5yxEQU",
        "colab_type": "text"
      },
      "cell_type": "markdown",
      "source": [
        "Some additional steps are required for us to use these datasets. One thing is to drop the `log_trip_duration` features (this is merely a log transform of one of the features, so it's signficance will remain the same as when it isn't transformed). Also, we can drop our original index and reset it, to make sure we can reference the rows accurately if needed."
      ]
    },
    {
      "metadata": {
        "id": "voE74HLexG-U",
        "colab_type": "code",
        "colab": {}
      },
      "cell_type": "code",
      "source": [
        "X_train = Train.drop(['log_trip_duration'], axis=1)\n",
        "Y_train = Train[\"log_trip_duration\"]\n",
        "X_test = Test.drop(['log_trip_duration'], axis=1)\n",
        "Y_test = Test[\"log_trip_duration\"]\n",
        "\n",
        "Y_test = Y_test.reset_index().drop('index',axis = 1)\n",
        "Y_train = Y_train.reset_index().drop('index',axis = 1)"
      ],
      "execution_count": 0,
      "outputs": []
    },
    {
      "metadata": {
        "id": "P-5GVNQXxLfb",
        "colab_type": "text"
      },
      "cell_type": "markdown",
      "source": [
        "One more step and it really is time to start training: We need to create the XGBoost matrices that will be used to train the model using XGBoost. Note that we use the newly created test and train sets as our model training inputs (for train and validation) and finally use the master test set to make our predictions."
      ]
    },
    {
      "metadata": {
        "id": "DmPxql7GxOuY",
        "colab_type": "code",
        "colab": {}
      },
      "cell_type": "code",
      "source": [
        "dtrain = xgb.DMatrix(X_train, label=Y_train)\n",
        "dvalid = xgb.DMatrix(X_test, label=Y_test)\n",
        "dtest = xgb.DMatrix(Test_master)\n",
        "watchlist = [(dtrain, 'train'), (dvalid, 'valid')]"
      ],
      "execution_count": 0,
      "outputs": []
    },
    {
      "metadata": {
        "id": "azxU4RJoxWUN",
        "colab_type": "text"
      },
      "cell_type": "markdown",
      "source": [
        "Finally! We're ready to use XGBoost. You'll notice that this part is actually quite short. But only in code. It can take quite a while to itterate through the different parameters and different values of these parameters to better the outcome of the model. Let's see what's next.\n",
        "\n",
        "5. XGBoost - Training the Model and Testing the Accuracy\n",
        "As mentioned you can play with the different parameters of the XGBoost algorithm to tweak the model's outcome. So below is a short, but very nice, way of itterating through model parameters to tweak the model. So it's implementation is simple: just uncomment the code and run the kernel. Again, refer to the [documentation for XGBoost](http://xgboost.readthedocs.io/en/latest/python/python_intro.html \"XGBoost Documentation\") to understand what each parameter does and how it alters the behaviour of the training process."
      ]
    },
    {
      "metadata": {
        "id": "N07Q9TZtxwxm",
        "colab_type": "text"
      },
      "cell_type": "markdown",
      "source": [
        "Here is one for the fork's. I do recomend you trying to play with these metrics though..."
      ]
    },
    {
      "metadata": {
        "id": "i8v0yimhx0t9",
        "colab_type": "code",
        "colab": {}
      },
      "cell_type": "code",
      "source": [
        "xgb_pars = {'min_child_weight': 1, 'eta': 0.5, 'colsample_bytree': 0.9, \n",
        "            'max_depth': 6,\n",
        "'subsample': 0.9, 'lambda': 1., 'nthread': -1, 'booster' : 'gbtree', 'silent': 1,\n",
        "'eval_metric': 'rmse', 'objective': 'reg:linear'}\n",
        "model = xgb.train(xgb_pars, dtrain, 10, watchlist, early_stopping_rounds=2,\n",
        "      maximize=False, verbose_eval=1)\n",
        "print('Modeling RMSLE %.5f' % model.best_score)"
      ],
      "execution_count": 0,
      "outputs": []
    },
    {
      "metadata": {
        "id": "eeM01skPx8Kq",
        "colab_type": "text"
      },
      "cell_type": "markdown",
      "source": [
        "f course, what type of tutorial would this be if I didn't give some ideas about where to twea the model? Here are some steps I suggest you follow:\n",
        "\n",
        "Make it more than 10 iterations before stopping.\n",
        "Lower the eta-value.\n",
        "Increase the max depth.\n",
        "Be very careful though, there is such a thing as overfitting. I.e. training your model so well on the training set that it performs quite poorly on unseen data. Here I would suggest playing with `colsample_bytree` and `subsample` to control overfitting.\n",
        "\n",
        "\n",
        "Out of interest, we can investigate the importance of each feature, to understand what affects the trip duration the most significantly. Here's how XGBoost allows us to do it:"
      ]
    },
    {
      "metadata": {
        "id": "8PZXwM6fx7WS",
        "colab_type": "code",
        "colab": {}
      },
      "cell_type": "code",
      "source": [
        "xgb.plot_importance(model, max_num_features=28, height=0.7)"
      ],
      "execution_count": 0,
      "outputs": []
    },
    {
      "metadata": {
        "id": "oHVzI3o5yDMc",
        "colab_type": "text"
      },
      "cell_type": "markdown",
      "source": [
        "So from top to bottom we see which features have the greatest affect on trip duration. It would make logical sense that distance has the greatest affect. The further you travel, the longer it'll take. The rest of the features follow a similar logic in why it's ranked the way it is.\n",
        "\n",
        "\n",
        "The final step before submission is to make our predictions using the trained model:"
      ]
    },
    {
      "metadata": {
        "id": "pAX0OOk7yFyo",
        "colab_type": "code",
        "colab": {}
      },
      "cell_type": "code",
      "source": [
        "pred = model.predict(dtest)\n",
        "pred = np.exp(pred) - 1"
      ],
      "execution_count": 0,
      "outputs": []
    },
    {
      "metadata": {
        "id": "INakzX76yJ_s",
        "colab_type": "text"
      },
      "cell_type": "markdown",
      "source": [
        "It's as simple as that. We've now successfully trained a model and made predictions on unseen data about how long it would take to get from A to B. Thus, the last step in getting yourself onto the leaderboard is to make a submission. Let's do that quickly:\n",
        "\n",
        "Time for Submission\n",
        "\n",
        "infomation from https://www.kaggle.com/karelrv/nyct-from-a-to-z-with-xgboost-tutorial"
      ]
    },
    {
      "metadata": {
        "id": "WkGtUFD_yNEE",
        "colab_type": "code",
        "colab": {}
      },
      "cell_type": "code",
      "source": [
        "submission = pd.concat([Test_id, pd.DataFrame(pred)], axis=1)\n",
        "submission.columns = ['id','trip_duration']\n",
        "submission['trip_duration'] = submission.apply(lambda x : 1 if (x['trip_duration'] <= 0) else x['trip_duration'], axis = 1)\n",
        "submission.to_csv(\"submission.csv\", index=False)"
      ],
      "execution_count": 0,
      "outputs": []
    },
    {
      "metadata": {
        "id": "bmS1DAmG2lqK",
        "colab_type": "code",
        "outputId": "3d93b62b-0efe-4d5d-dd9c-ad995b5f80ae",
        "colab": {
          "base_uri": "https://localhost:8080/",
          "height": 571
        }
      },
      "cell_type": "code",
      "source": [
        "!pip install TPOT"
      ],
      "execution_count": 0,
      "outputs": [
        {
          "output_type": "stream",
          "text": [
            "Collecting TPOT\n",
            "\u001b[?25l  Downloading https://files.pythonhosted.org/packages/c4/e6/a41be0ddb23a411dc78b92f6a90b8129e65856a8248f8f11b2f14d8eeee3/TPOT-0.9.3.tar.gz (888kB)\n",
            "\u001b[K    100% |████████████████████████████████| 890kB 6.5MB/s \n",
            "\u001b[?25hRequirement already satisfied: numpy>=1.12.1 in /usr/local/lib/python3.6/dist-packages (from TPOT) (1.14.5)\n",
            "Requirement already satisfied: scipy>=0.19.0 in /usr/local/lib/python3.6/dist-packages (from TPOT) (0.19.1)\n",
            "Requirement already satisfied: scikit-learn>=0.18.1 in /usr/local/lib/python3.6/dist-packages (from TPOT) (0.19.2)\n",
            "Collecting deap>=1.0 (from TPOT)\n",
            "\u001b[?25l  Downloading https://files.pythonhosted.org/packages/af/29/e7f2ecbe02997b16a768baed076f5fc4781d7057cd5d9adf7c94027845ba/deap-1.2.2.tar.gz (936kB)\n",
            "\u001b[K    100% |████████████████████████████████| 942kB 9.0MB/s \n",
            "\u001b[?25hCollecting update_checker>=0.16 (from TPOT)\n",
            "  Downloading https://files.pythonhosted.org/packages/17/c9/ab11855af164d03be0ff4fddd4c46a5bd44799a9ecc1770e01a669c21168/update_checker-0.16-py2.py3-none-any.whl\n",
            "Requirement already satisfied: tqdm>=4.11.2 in /usr/local/lib/python3.6/dist-packages (from TPOT) (4.24.0)\n",
            "Collecting stopit>=1.1.1 (from TPOT)\n",
            "  Downloading https://files.pythonhosted.org/packages/35/58/e8bb0b0fb05baf07bbac1450c447d753da65f9701f551dca79823ce15d50/stopit-1.1.2.tar.gz\n",
            "Requirement already satisfied: pandas>=0.20.2 in /usr/local/lib/python3.6/dist-packages (from TPOT) (0.22.0)\n",
            "Requirement already satisfied: requests>=2.3.0 in /usr/local/lib/python3.6/dist-packages (from update_checker>=0.16->TPOT) (2.18.4)\n",
            "Requirement already satisfied: python-dateutil>=2 in /usr/local/lib/python3.6/dist-packages (from pandas>=0.20.2->TPOT) (2.5.3)\n",
            "Requirement already satisfied: pytz>=2011k in /usr/local/lib/python3.6/dist-packages (from pandas>=0.20.2->TPOT) (2018.5)\n",
            "Requirement already satisfied: certifi>=2017.4.17 in /usr/local/lib/python3.6/dist-packages (from requests>=2.3.0->update_checker>=0.16->TPOT) (2018.4.16)\n",
            "Requirement already satisfied: urllib3<1.23,>=1.21.1 in /usr/local/lib/python3.6/dist-packages (from requests>=2.3.0->update_checker>=0.16->TPOT) (1.22)\n",
            "Requirement already satisfied: chardet<3.1.0,>=3.0.2 in /usr/local/lib/python3.6/dist-packages (from requests>=2.3.0->update_checker>=0.16->TPOT) (3.0.4)\n",
            "Requirement already satisfied: idna<2.7,>=2.5 in /usr/local/lib/python3.6/dist-packages (from requests>=2.3.0->update_checker>=0.16->TPOT) (2.6)\n",
            "Requirement already satisfied: six>=1.5 in /usr/local/lib/python3.6/dist-packages (from python-dateutil>=2->pandas>=0.20.2->TPOT) (1.11.0)\n",
            "Building wheels for collected packages: TPOT, deap, stopit\n",
            "  Running setup.py bdist_wheel for TPOT ... \u001b[?25l-\b \b\\\b \bdone\n",
            "\u001b[?25h  Stored in directory: /content/.cache/pip/wheels/00/f3/4d/8d28f69c59669ba720eebaa4ebc8a3b28da2a61662367b38e8\n",
            "  Running setup.py bdist_wheel for deap ... \u001b[?25l-\b \b\\\b \b|\b \b/\b \b-\b \b\\\b \b|\b \b/\b \b-\b \b\\\b \b|\b \bdone\n",
            "\u001b[?25h  Stored in directory: /content/.cache/pip/wheels/22/ea/bf/dc7c8a2262025a0ab5da9ef02282c198be88902791ca0c6658\n",
            "  Running setup.py bdist_wheel for stopit ... \u001b[?25l-\b \bdone\n",
            "\u001b[?25h  Stored in directory: /content/.cache/pip/wheels/3c/85/2b/2580190404636bfc63e8de3dff629c03bb795021e1983a6cc7\n",
            "Successfully built TPOT deap stopit\n",
            "Installing collected packages: deap, update-checker, stopit, TPOT\n",
            "Successfully installed TPOT-0.9.3 deap-1.2.2 stopit-1.1.2 update-checker-0.16\n"
          ],
          "name": "stdout"
        }
      ]
    },
    {
      "metadata": {
        "id": "JNpt08bkBG3O",
        "colab_type": "code",
        "outputId": "d1c7a1eb-6739-41c8-83cf-5692180bcf2c",
        "colab": {
          "base_uri": "https://localhost:8080/",
          "height": 229
        }
      },
      "cell_type": "code",
      "source": [
        "features_names = list(df_train.columns)\n",
        "y = np.log.log(df_train['trip_duration'].values+1)\n",
        "x_tr, xtv, ytr, yv= train_test_split(df_train[features_names].values, y, test_size=.02, random_state=1983)\n",
        "\n",
        "model = xgb_train('default',df_train)"
      ],
      "execution_count": 0,
      "outputs": [
        {
          "output_type": "error",
          "ename": "AttributeError",
          "evalue": "ignored",
          "traceback": [
            "\u001b[0;31m---------------------------------------------------------------------------\u001b[0m",
            "\u001b[0;31mAttributeError\u001b[0m                            Traceback (most recent call last)",
            "\u001b[0;32m<ipython-input-28-2a386b07b141>\u001b[0m in \u001b[0;36m<module>\u001b[0;34m()\u001b[0m\n\u001b[1;32m      1\u001b[0m \u001b[0mfeatures_names\u001b[0m \u001b[0;34m=\u001b[0m \u001b[0mlist\u001b[0m\u001b[0;34m(\u001b[0m\u001b[0mdf_train\u001b[0m\u001b[0;34m.\u001b[0m\u001b[0mcolumns\u001b[0m\u001b[0;34m)\u001b[0m\u001b[0;34m\u001b[0m\u001b[0m\n\u001b[0;32m----> 2\u001b[0;31m \u001b[0my\u001b[0m \u001b[0;34m=\u001b[0m \u001b[0mnp\u001b[0m\u001b[0;34m.\u001b[0m\u001b[0mlog\u001b[0m\u001b[0;34m.\u001b[0m\u001b[0mlog\u001b[0m\u001b[0;34m(\u001b[0m\u001b[0mdf_train\u001b[0m\u001b[0;34m[\u001b[0m\u001b[0;34m'trip_duration'\u001b[0m\u001b[0;34m]\u001b[0m\u001b[0;34m.\u001b[0m\u001b[0mvalues\u001b[0m\u001b[0;34m+\u001b[0m\u001b[0;36m1\u001b[0m\u001b[0;34m)\u001b[0m\u001b[0;34m\u001b[0m\u001b[0m\n\u001b[0m\u001b[1;32m      3\u001b[0m \u001b[0mx_tr\u001b[0m\u001b[0;34m,\u001b[0m \u001b[0mxtv\u001b[0m\u001b[0;34m,\u001b[0m \u001b[0mytr\u001b[0m\u001b[0;34m,\u001b[0m \u001b[0myv\u001b[0m\u001b[0;34m=\u001b[0m \u001b[0mtrain_test_split\u001b[0m\u001b[0;34m(\u001b[0m\u001b[0mdf_train\u001b[0m\u001b[0;34m[\u001b[0m\u001b[0mfeatures_names\u001b[0m\u001b[0;34m]\u001b[0m\u001b[0;34m.\u001b[0m\u001b[0mvalues\u001b[0m\u001b[0;34m,\u001b[0m \u001b[0my\u001b[0m\u001b[0;34m,\u001b[0m \u001b[0mtest_size\u001b[0m\u001b[0;34m=\u001b[0m\u001b[0;36m.02\u001b[0m\u001b[0;34m,\u001b[0m \u001b[0mrandom_state\u001b[0m\u001b[0;34m=\u001b[0m\u001b[0;36m1983\u001b[0m\u001b[0;34m)\u001b[0m\u001b[0;34m\u001b[0m\u001b[0m\n\u001b[1;32m      4\u001b[0m \u001b[0;34m\u001b[0m\u001b[0m\n\u001b[1;32m      5\u001b[0m \u001b[0mmodel\u001b[0m \u001b[0;34m=\u001b[0m \u001b[0mxgb_train\u001b[0m\u001b[0;34m(\u001b[0m\u001b[0;34m'default'\u001b[0m\u001b[0;34m,\u001b[0m\u001b[0mdf_train\u001b[0m\u001b[0;34m)\u001b[0m\u001b[0;34m\u001b[0m\u001b[0m\n",
            "\u001b[0;31mAttributeError\u001b[0m: 'numpy.ufunc' object has no attribute 'log'"
          ]
        }
      ]
    }
  ]
}